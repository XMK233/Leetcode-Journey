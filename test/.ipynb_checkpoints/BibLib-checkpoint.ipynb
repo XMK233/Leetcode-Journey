{
 "cells": [
  {
   "cell_type": "code",
   "execution_count": 4,
   "metadata": {},
   "outputs": [
    {
     "name": "stdout",
     "output_type": "stream",
     "text": [
      "0.13\n",
      "13.33\n"
     ]
    },
    {
     "data": {
      "text/plain": [
       "132.33"
      ]
     },
     "execution_count": 4,
     "metadata": {},
     "output_type": "execute_result"
    }
   ],
   "source": [
    "#保留小数点后两位 方法1：\n",
    "print(\"%.2f\" % 0.13333)\n",
    "\n",
    "#保留小数点后两位 方法2\n",
    "print(\"{:.2f}\".format(13.333))    \n",
    "\n",
    "#保留小数点后两位 方法3\n",
    "round(132.333, 2)\n",
    "\n",
    "#保留两位有效数字，注意去掉了那个f：\n",
    "print(\"{:.2}\".format(13.333))   "
   ]
  },
  {
   "cell_type": "code",
   "execution_count": null,
   "metadata": {},
   "outputs": [],
   "source": []
  },
  {
   "cell_type": "code",
   "execution_count": 1,
   "metadata": {},
   "outputs": [],
   "source": [
    "import deepdiff, jsondiff"
   ]
  },
  {
   "cell_type": "code",
   "execution_count": 4,
   "metadata": {},
   "outputs": [],
   "source": [
    "json1 = {'a': 1, 'b': 2} \n",
    "json2 = {'b': 3, 'c': 4}"
   ]
  },
  {
   "cell_type": "code",
   "execution_count": 8,
   "metadata": {},
   "outputs": [
    {
     "data": {
      "text/plain": [
       "{'b': 3, 'c': 4, delete: ['a']}"
      ]
     },
     "execution_count": 8,
     "metadata": {},
     "output_type": "execute_result"
    }
   ],
   "source": [
    "jsondiff.diff(json1, json2)"
   ]
  },
  {
   "cell_type": "code",
   "execution_count": 9,
   "metadata": {},
   "outputs": [
    {
     "data": {
      "text/plain": [
       "function"
      ]
     },
     "execution_count": 9,
     "metadata": {},
     "output_type": "execute_result"
    }
   ],
   "source": [
    "type(jsondiff.diff)"
   ]
  },
  {
   "cell_type": "code",
   "execution_count": 16,
   "metadata": {
    "collapsed": true
   },
   "outputs": [
    {
     "data": {
      "text/plain": [
       "['_DeepDiff__create_hashtable',\n",
       " '_DeepDiff__dict_from_slots',\n",
       " '_DeepDiff__diff',\n",
       " '_DeepDiff__diff_dict',\n",
       " '_DeepDiff__diff_iterable',\n",
       " '_DeepDiff__diff_iterable_with_deephash',\n",
       " '_DeepDiff__diff_numbers',\n",
       " '_DeepDiff__diff_obj',\n",
       " '_DeepDiff__diff_set',\n",
       " '_DeepDiff__diff_str',\n",
       " '_DeepDiff__diff_tuple',\n",
       " '_DeepDiff__diff_types',\n",
       " '_DeepDiff__get_clean_to_keys_mapping',\n",
       " '_DeepDiff__iterables_subscriptable',\n",
       " '_DeepDiff__report_result',\n",
       " '_DeepDiff__skip_this',\n",
       " '__class__',\n",
       " '__contains__',\n",
       " '__delattr__',\n",
       " '__delitem__',\n",
       " '__dict__',\n",
       " '__dir__',\n",
       " '__doc__',\n",
       " '__eq__',\n",
       " '__format__',\n",
       " '__ge__',\n",
       " '__getattribute__',\n",
       " '__getitem__',\n",
       " '__gt__',\n",
       " '__hash__',\n",
       " '__init__',\n",
       " '__init_subclass__',\n",
       " '__iter__',\n",
       " '__le__',\n",
       " '__len__',\n",
       " '__lt__',\n",
       " '__module__',\n",
       " '__ne__',\n",
       " '__new__',\n",
       " '__reduce__',\n",
       " '__reduce_ex__',\n",
       " '__repr__',\n",
       " '__setattr__',\n",
       " '__setitem__',\n",
       " '__sizeof__',\n",
       " '__str__',\n",
       " '__subclasshook__',\n",
       " '__weakref__',\n",
       " '_add_hash',\n",
       " '_get_view_results',\n",
       " 'cleanup',\n",
       " 'clear',\n",
       " 'copy',\n",
       " 'from_json_pickle',\n",
       " 'fromkeys',\n",
       " 'get',\n",
       " 'get_ignore_types_in_groups',\n",
       " 'get_significant_digits',\n",
       " 'items',\n",
       " 'keys',\n",
       " 'numbers',\n",
       " 'pop',\n",
       " 'popitem',\n",
       " 'setdefault',\n",
       " 'strings',\n",
       " 'to_dict',\n",
       " 'to_json',\n",
       " 'to_json_pickle',\n",
       " 'update',\n",
       " 'values']"
      ]
     },
     "execution_count": 16,
     "metadata": {},
     "output_type": "execute_result"
    }
   ],
   "source": [
    "dir(deepdiff.DeepDiff)"
   ]
  },
  {
   "cell_type": "code",
   "execution_count": 1,
   "metadata": {},
   "outputs": [],
   "source": [
    "from deepdiff import diff"
   ]
  },
  {
   "cell_type": "code",
   "execution_count": 8,
   "metadata": {},
   "outputs": [
    {
     "data": {
      "text/plain": [
       "module"
      ]
     },
     "execution_count": 8,
     "metadata": {},
     "output_type": "execute_result"
    }
   ],
   "source": [
    "type(diff)"
   ]
  },
  {
   "cell_type": "code",
   "execution_count": 3,
   "metadata": {},
   "outputs": [
    {
     "data": {
      "text/plain": [
       "type"
      ]
     },
     "execution_count": 3,
     "metadata": {},
     "output_type": "execute_result"
    }
   ],
   "source": [
    "type(diff.DeepDiff)"
   ]
  },
  {
   "cell_type": "code",
   "execution_count": 6,
   "metadata": {},
   "outputs": [
    {
     "ename": "TypeError",
     "evalue": "'module' object is not callable",
     "output_type": "error",
     "traceback": [
      "\u001b[1;31m---------------------------------------------------------------------------\u001b[0m",
      "\u001b[1;31mTypeError\u001b[0m                                 Traceback (most recent call last)",
      "\u001b[1;32m<ipython-input-6-2c336ec818b8>\u001b[0m in \u001b[0;36m<module>\u001b[1;34m\u001b[0m\n\u001b[1;32m----> 1\u001b[1;33m \u001b[0mdiff\u001b[0m\u001b[1;33m(\u001b[0m\u001b[0mjson1\u001b[0m\u001b[1;33m,\u001b[0m \u001b[0mjson2\u001b[0m\u001b[1;33m)\u001b[0m\u001b[1;33m\u001b[0m\u001b[1;33m\u001b[0m\u001b[0m\n\u001b[0m",
      "\u001b[1;31mTypeError\u001b[0m: 'module' object is not callable"
     ]
    }
   ],
   "source": [
    "diff(json1, json2)"
   ]
  },
  {
   "cell_type": "code",
   "execution_count": 7,
   "metadata": {},
   "outputs": [
    {
     "data": {
      "text/plain": [
       "{'dictionary_item_added': [root['c']],\n",
       " 'dictionary_item_removed': [root['a']],\n",
       " 'values_changed': {\"root['b']\": {'new_value': 3, 'old_value': 2}}}"
      ]
     },
     "execution_count": 7,
     "metadata": {},
     "output_type": "execute_result"
    }
   ],
   "source": [
    "diff.DeepDiff(json1, json2)"
   ]
  },
  {
   "cell_type": "markdown",
   "metadata": {},
   "source": [
    "-------------------------------------------"
   ]
  },
  {
   "cell_type": "code",
   "execution_count": null,
   "metadata": {},
   "outputs": [],
   "source": [
    "!pip uninstall python-magic\n",
    "!pip install python-magic-bin==0.4.14"
   ]
  },
  {
   "cell_type": "code",
   "execution_count": 2,
   "metadata": {},
   "outputs": [
    {
     "ename": "RecursionError",
     "evalue": "maximum recursion depth exceeded",
     "output_type": "error",
     "traceback": [
      "\u001b[1;31m---------------------------------------------------------------------------\u001b[0m",
      "\u001b[1;31mRecursionError\u001b[0m                            Traceback (most recent call last)",
      "\u001b[1;32m<ipython-input-2-a4318e4e01b7>\u001b[0m in \u001b[0;36m<module>\u001b[1;34m\u001b[0m\n\u001b[0;32m      2\u001b[0m \u001b[1;33m\u001b[0m\u001b[0m\n\u001b[0;32m      3\u001b[0m \u001b[1;31m# open file as filedb in read only mode\u001b[0m\u001b[1;33m\u001b[0m\u001b[1;33m\u001b[0m\u001b[1;33m\u001b[0m\u001b[0m\n\u001b[1;32m----> 4\u001b[1;33m \u001b[0mfileDb1\u001b[0m \u001b[1;33m=\u001b[0m \u001b[0mbiblib\u001b[0m\u001b[1;33m.\u001b[0m\u001b[0mFileBibDB\u001b[0m\u001b[1;33m(\u001b[0m\u001b[1;34m'C:/Users/XMK23/Documents/masterthesis/Proposal1/xmkBibLib.bib'\u001b[0m\u001b[1;33m,\u001b[0m \u001b[0mmode\u001b[0m\u001b[1;33m=\u001b[0m\u001b[1;34m'r'\u001b[0m\u001b[1;33m)\u001b[0m\u001b[1;33m\u001b[0m\u001b[1;33m\u001b[0m\u001b[0m\n\u001b[0m\u001b[0;32m      5\u001b[0m \u001b[0mfileDb2\u001b[0m \u001b[1;33m=\u001b[0m \u001b[0mbiblib\u001b[0m\u001b[1;33m.\u001b[0m\u001b[0mFileBibDB\u001b[0m\u001b[1;33m(\u001b[0m\u001b[1;34m'C:/Users/XMK23/Documents/modelstore/xmkBibLib.bib'\u001b[0m\u001b[1;33m,\u001b[0m \u001b[0mmode\u001b[0m\u001b[1;33m=\u001b[0m\u001b[1;34m'r'\u001b[0m\u001b[1;33m)\u001b[0m\u001b[1;33m\u001b[0m\u001b[1;33m\u001b[0m\u001b[0m\n\u001b[0;32m      6\u001b[0m \u001b[0mfileDb3\u001b[0m \u001b[1;33m=\u001b[0m \u001b[0mbiblib\u001b[0m\u001b[1;33m.\u001b[0m\u001b[0mFileBibDB\u001b[0m\u001b[1;33m(\u001b[0m\u001b[1;34m'C:/Users/XMK23/Documents/re_for_mlapp/IEEE_SW_2Col_/xmkBibLib.bib'\u001b[0m\u001b[1;33m,\u001b[0m \u001b[0mmode\u001b[0m\u001b[1;33m=\u001b[0m\u001b[1;34m'r'\u001b[0m\u001b[1;33m)\u001b[0m\u001b[1;33m\u001b[0m\u001b[1;33m\u001b[0m\u001b[0m\n",
      "\u001b[1;32m~\\AppData\\Local\\Continuum\\anaconda3\\envs\\Py1\\lib\\site-packages\\biblib\\_bibdb.py\u001b[0m in \u001b[0;36m__init__\u001b[1;34m(self, filename, method, mode, encoding)\u001b[0m\n",
      "\u001b[1;32m~\\AppData\\Local\\Continuum\\anaconda3\\envs\\Py1\\lib\\site-packages\\biblib\\_bibdb.py\u001b[0m in \u001b[0;36m__init__\u001b[1;34m(self, storage, method)\u001b[0m\n",
      "\u001b[1;32m~\\AppData\\Local\\Continuum\\anaconda3\\envs\\Py1\\lib\\site-packages\\biblib\\storage.py\u001b[0m in \u001b[0;36mreadEntries\u001b[1;34m(self, citeKeys)\u001b[0m\n",
      "\u001b[1;32m~\\AppData\\Local\\Continuum\\anaconda3\\envs\\Py1\\lib\\site-packages\\biblib\\storage.py\u001b[0m in \u001b[0;36mentriesFromString\u001b[1;34m(self, bibStr)\u001b[0m\n",
      "\u001b[1;32m~\\AppData\\Local\\Continuum\\anaconda3\\envs\\Py1\\lib\\site-packages\\biblib\\_entry.py\u001b[0m in \u001b[0;36mget_Instance\u001b[1;34m(cls, inputdict)\u001b[0m\n",
      "\u001b[1;32m~\\AppData\\Local\\Continuum\\anaconda3\\envs\\Py1\\lib\\site-packages\\biblib\\_entry.py\u001b[0m in \u001b[0;36m__new__\u001b[1;34m(cls, inputdict)\u001b[0m\n",
      "... last 1 frames repeated, from the frame below ...\n",
      "\u001b[1;32m~\\AppData\\Local\\Continuum\\anaconda3\\envs\\Py1\\lib\\site-packages\\biblib\\_entry.py\u001b[0m in \u001b[0;36m__new__\u001b[1;34m(cls, inputdict)\u001b[0m\n",
      "\u001b[1;31mRecursionError\u001b[0m: maximum recursion depth exceeded"
     ]
    }
   ],
   "source": [
    "import biblib\n",
    "\n",
    "# open file as filedb in read only mode\n",
    "fileDb1 = biblib.FileBibDB('C:/Users/XMK23/Documents/masterthesis/Proposal1/xmkBibLib.bib', mode='r')\n",
    "fileDb2 = biblib.FileBibDB('C:/Users/XMK23/Documents/modelstore/xmkBibLib.bib', mode='r')\n",
    "fileDb3 = biblib.FileBibDB('C:/Users/XMK23/Documents/re_for_mlapp/IEEE_SW_2Col_/xmkBibLib.bib', mode='r')\n",
    "\n",
    "\n",
    "# open file as db read/write mode,\n",
    "# no LaTeX encoding of unicode character\n",
    "newFileDb = biblib.FileBibDB('new.bib', encode=False)"
   ]
  },
  {
   "cell_type": "code",
   "execution_count": null,
   "metadata": {},
   "outputs": [],
   "source": []
  }
 ],
 "metadata": {
  "kernelspec": {
   "display_name": "Python 3",
   "language": "python",
   "name": "python3"
  },
  "language_info": {
   "codemirror_mode": {
    "name": "ipython",
    "version": 3
   },
   "file_extension": ".py",
   "mimetype": "text/x-python",
   "name": "python",
   "nbconvert_exporter": "python",
   "pygments_lexer": "ipython3",
   "version": "3.6.7"
  }
 },
 "nbformat": 4,
 "nbformat_minor": 2
}
