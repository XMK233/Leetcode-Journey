{
 "cells": [
  {
   "cell_type": "code",
   "execution_count": 1,
   "metadata": {},
   "outputs": [],
   "source": [
    "# -*- coding: utf-8 -*-\n",
    "import os, json, md2py\n",
    "import os, shutil, re, json, tqdm\n",
    "from lxml import etree\n",
    "\n",
    "JSON_FILE = r\"J:\\ModelStoreData\\AIHub\\2019-06-04\\TFModule_Info.json\"\n",
    "\n",
    "def get_element_by_xpath(page_source, xpath, index = 0):\n",
    "    res = None\n",
    "    try:\n",
    "        _ = page_source.xpath(xpath)[index]\n",
    "        ## eliminate unnecessary chars.\n",
    "        _ = _.replace(\"\\n\", \"\").strip()\n",
    "        ## change the strings to lower case. Hopefully it will make the comparison standardized.\n",
    "        ## be careful about this change. If it is not suitable to the situation, stop it without hesitation.\n",
    "        _ = _.lower()\n",
    "        res = ' '.join(_.split())\n",
    "    except:\n",
    "        res = None\n",
    "    finally:\n",
    "        return res\n",
    "\n",
    "def parse_html_specially_for_imagenet(html, *args):\n",
    "    res = None\n",
    "    try:\n",
    "        page_source = etree.HTML(html)\n",
    "        author = get_element_by_xpath(page_source, \"//ul/li/text()\", args[0])\n",
    "        author = author.replace(\":\", \"\")\n",
    "        paper = get_element_by_xpath(page_source, \"//ul/li/a/text()\", args[1])\n",
    "        paper = paper.replace(\"\\\"\", \"\")\n",
    "        link_to_paper = get_element_by_xpath(page_source, \"//ul/li/a/@href\", args[2])\n",
    "        year = get_element_by_xpath(page_source, \"//ul/li/text()\", args[3])\n",
    "        year = re.findall(r\"(\\d{4})\", year)[0]\n",
    "        res = {\"author\": author, \"paper\": paper, \"link_to_paper\":link_to_paper, \"year\": year}\n",
    "    except:\n",
    "        print(f\"failed\")\n",
    "    finally:\n",
    "        return res"
   ]
  },
  {
   "cell_type": "code",
   "execution_count": 2,
   "metadata": {},
   "outputs": [
    {
     "name": "stdout",
     "output_type": "stream",
     "text": [
      "209\n",
      "182\n",
      "40\n"
     ]
    }
   ],
   "source": [
    "model_version_logInfo = {}\n",
    "model_logInfo = {}\n",
    "def Gather_md_code():\n",
    "    with open(JSON_FILE, \"r\") as jf:\n",
    "        items = json.load(jf)\n",
    "    counting_hangelog = 0\n",
    "    counting_ersion = 0\n",
    "    counting_other = 0\n",
    "    for item in items:\n",
    "        name = item[\"name\"]\n",
    "        version = item[\"version\"]\n",
    "        info = item[\"info\"]\n",
    "        link_url = \"https://aihub.cloud.google.com/p/products%2F{}/v/{}\".format(info[1][1].split(\"/\")[1], version)\n",
    "        md = info[1][7]\n",
    "        # toc = md2py.md2py(md)\n",
    "        # page_source = etree.HTML(str(toc.source))\n",
    "\n",
    "        ## lets' see whether they have c\"hangelog\" keywords.\n",
    "        if \"hangelog\" in md:\n",
    "            counting_hangelog += 1\n",
    "            toc1 = md2py.md2py(md.split(\"hangelog\")[1])\n",
    "            source_to_write = str(toc1.source)\n",
    "            remove_references = re.split(\"<h\\d>\\Seferences</h\\d>\", source_to_write)[0]\n",
    "            \n",
    "            model_logInfo[name] = remove_references\n",
    "            \n",
    "            if name not in model_version_logInfo:\n",
    "                model_version_logInfo[name] = {}#[[version, str(toc1.source)]]\n",
    "                model_version_logInfo[name][version] = remove_references#str(toc1.source)\n",
    "            else:\n",
    "#                 model_version_logInfo[name].append([version, str(toc1.source)])\n",
    "                model_version_logInfo[name][version] = remove_references#str(toc1.source)\n",
    "#             print(str(toc1.source))\n",
    "#             print(name, version, link_url)\n",
    "        else:\n",
    "            ## if there is no changelog keyword, let's see \"version\" keyword.\n",
    "            ## .. After manually checking out, no version/update/log.. info can be found.\n",
    "            if \"ersion\" in md:\n",
    "                counting_ersion += 1\n",
    "                # print(md, \"\\n\\n\\n\\n\\n\\n\\n\\n\\n\\n\\n\\n\\n\\n\\n\\n\\n\\n\\n\\n\")\n",
    "                # print(name, version, link_url)\n",
    "            else:\n",
    "                ## if neither \"ersion\" nor \"hangelog\" is available:\n",
    "                ## .. After manually checking out, no version/update/log.. info can be found.\n",
    "                counting_other += 1\n",
    "                # print(name, version, link_url)\n",
    "                # print(md, \"\\n\\n\\n\\n\\n\\n\\n\\n\\n\\n\\n\\n\\n\\n\\n\\n\\n\\n\\n\\n\")\n",
    "\n",
    "    print(counting_hangelog)\n",
    "    print(counting_ersion)\n",
    "    print(counting_other)\n",
    "\n",
    "Gather_md_code()"
   ]
  },
  {
   "cell_type": "code",
   "execution_count": 3,
   "metadata": {},
   "outputs": [
    {
     "data": {
      "text/plain": [
       "158"
      ]
     },
     "execution_count": 3,
     "metadata": {},
     "output_type": "execute_result"
    }
   ],
   "source": [
    "len(list(model_logInfo.keys()))"
   ]
  },
  {
   "cell_type": "markdown",
   "metadata": {},
   "source": [
    "### Get the information about the changelog. \n",
    "* not that many models actually have any change log. Only limited change log has been extracted. That's too bad. "
   ]
  },
  {
   "cell_type": "code",
   "execution_count": 4,
   "metadata": {},
   "outputs": [
    {
     "name": "stdout",
     "output_type": "stream",
     "text": [
      "bert_cased_L-12_H-768_A-12 <h4>Version 1</h4>\\n<ul>\\n<li>Initial release.</li>\\n</ul>\\n\n",
      "bert_cased_L-24_H-1024_A-16 <h4>Version 1</h4>\\n<ul>\\n<li>Initial release.</li>\\n</ul>\\n\n",
      "bert_chinese_L-12_H-768_A-12 <h4>Version 1</h4>\\n<ul>\\n<li>Initial release.</li>\\n</ul>\\n\n",
      "bert_multi_cased_L-12_H-768_A-12 <h4>Version 1</h4>\\n<ul>\\n<li>Initial release.</li>\\n</ul>\\n\n",
      "bert_uncased_L-12_H-768_A-12 <h4>Version 1</h4>\\n<ul>\\n<li>Initial release.</li>\\n</ul>\\n\n",
      "bert_uncased_L-24_H-1024_A-16 <h4>Version 1</h4>\\n<ul>\\n<li>Initial release.</li>\\n</ul>\\n\n",
      "biggan-128 <h4>Version 1</h4>\\n<ul>\\n<li>Initial release.</li>\\n</ul>\\n<h4>Version 2</h4>\\n<ul>\\n<li>Fixed race condition causing batch statistics for previous truncation value\\n    to be used on the first run call for a new truncation value.</li>\\n</ul>\\n\n",
      "biggan-256 <h4>Version 1</h4>\\n<ul>\\n<li>Initial release.</li>\\n</ul>\\n<h4>Version 2</h4>\\n<ul>\\n<li>Fixed race condition causing batch statistics for previous truncation value\\n    to be used on the first run call for a new truncation value.</li>\\n</ul>\\n\n",
      "biggan-512 <h4>Version 1</h4>\\n<ul>\\n<li>Initial release.</li>\\n</ul>\\n<h4>Version 2</h4>\\n<ul>\\n<li>Fixed race condition causing batch statistics for previous truncation value\\n    to be used on the first run call for a new truncation value.</li>\\n</ul>\\n\n",
      "elmo <h4>Version 1</h4>\\n<ul>\\n<li>Initial release.</li>\\n</ul>\\n<h4>Version 2</h4>\\n<ul>\\n<li>Restricted trainable variables to the 4 scalar weights as described in the\\npaper.</li>\\n</ul>\\n\n",
      "image_augmentation-crop_color <h4>Version 1</h4>\\n<ul>\\n<li>Initial release.</li>\\n</ul>\n",
      "image_augmentation-crop_rotate_color <h4>Version 1</h4>\\n<ul>\\n<li>Initial release.</li>\\n</ul>\n",
      "image_augmentation-flipx_crop_rotate_color <h4>Version 1</h4>\\n<ul>\\n<li>Initial release.</li>\\n</ul>\n",
      "image_augmentation-nas_cifar <h4>Version 1</h4>\\n<ul>\\n<li>Initial release.</li>\\n</ul>\n",
      "image_augmentation-nas_imagenet <h4>Version 1</h4>\\n<ul>\\n<li>Initial release.</li>\\n</ul>\n",
      "image_augmentation-nas_svhn <h4>Version 1</h4>\\n<ul>\\n<li>Initial release.</li>\\n</ul>\n",
      "imagenet-inception_resnet_v2-classification <h4>Version 1</h4>\\n<ul>\\n<li>Initial release.</li>\\n</ul>\\n<h4>Version 3</h4>\\n<ul>\\n<li>Support for variable input size.</li>\\n<li>Fine-tuning: change default batch norm momentum to 0.99 and\\n    make it configurable.</li>\\n<li>Requires PIP package <code>tensorflow-hub&gt;=0.2.0</code>.</li>\\n</ul>\n",
      "imagenet-inception_resnet_v2-feature_vector <h4>Version 1</h4>\\n<ul>\\n<li>Initial release.</li>\\n</ul>\\n<h4>Version 3</h4>\\n<ul>\\n<li>Support for variable input size.</li>\\n<li>Fine-tuning: change default batch norm momentum to 0.99 and\\n    make it configurable.</li>\\n<li>Requires PIP package <code>tensorflow-hub&gt;=0.2.0</code>.</li>\\n</ul>\n",
      "imagenet-inception_v1-classification <h4>Version 1</h4>\\n<ul>\\n<li>Initial release.</li>\\n</ul>\\n<h4>Version 3</h4>\\n<ul>\\n<li>Support for variable input size.</li>\\n<li>Fine-tuning: change default batch norm momentum to 0.99 and\\n    make it configurable.</li>\\n<li>Requires PIP package <code>tensorflow-hub&gt;=0.2.0</code>.</li>\\n</ul>\n",
      "imagenet-inception_v1-feature_vector <h4>Version 1</h4>\\n<ul>\\n<li>Initial release.</li>\\n</ul>\\n<h4>Version 3</h4>\\n<ul>\\n<li>Support for variable input size.</li>\\n<li>Fine-tuning: change default batch norm momentum to 0.99 and\\n    make it configurable.</li>\\n<li>Requires PIP package <code>tensorflow-hub&gt;=0.2.0</code>.</li>\\n</ul>\n",
      "imagenet-inception_v2-classification <h4>Version 1</h4>\\n<ul>\\n<li>Initial release.</li>\\n</ul>\\n<h4>Version 3</h4>\\n<ul>\\n<li>Support for variable input size.</li>\\n<li>Fine-tuning: change default batch norm momentum to 0.99 and\\n    make it configurable.</li>\\n<li>Requires PIP package <code>tensorflow-hub&gt;=0.2.0</code>.</li>\\n</ul>\n",
      "imagenet-inception_v2-feature_vector <h4>Version 1</h4>\\n<ul>\\n<li>Initial release.</li>\\n</ul>\\n<h4>Version 3</h4>\\n<ul>\\n<li>Support for variable input size.</li>\\n<li>Fine-tuning: change default batch norm momentum to 0.99 and\\n    make it configurable.</li>\\n<li>Requires PIP package <code>tensorflow-hub&gt;=0.2.0</code>.</li>\\n</ul>\n",
      "imagenet-inception_v3-classification <h4>Version 1</h4>\\n<ul>\\n<li>Initial release.</li>\\n</ul>\\n<h4>Version 3</h4>\\n<ul>\\n<li>Support for variable input size.</li>\\n<li>Fine-tuning: change default batch norm momentum to 0.99 and\\n    make it configurable.</li>\\n<li>Requires PIP package <code>tensorflow-hub&gt;=0.2.0</code>.</li>\\n</ul>\n",
      "imagenet-inception_v3-feature_vector <h4>Version 1</h4>\\n<ul>\\n<li>Initial release.</li>\\n</ul>\\n<h4>Version 3</h4>\\n<ul>\\n<li>Support for variable input size.</li>\\n<li>Fine-tuning: change default batch norm momentum to 0.99 and\\n    make it configurable.</li>\\n<li>Requires PIP package <code>tensorflow-hub&gt;=0.2.0</code>.</li>\\n</ul>\n",
      "imagenet-mobilenet_v1_025_128-classification <h4>Version 1</h4>\\n<ul>\\n<li>Initial release.</li>\\n</ul>\\n<h4>Version 3</h4>\\n<ul>\\n<li>Support for variable input size.</li>\\n<li>Fine-tuning: change default batch norm momentum to 0.99 and\\n    make it configurable.</li>\\n<li>Requires PIP package <code>tensorflow-hub&gt;=0.2.0</code>.</li>\\n</ul>\n",
      "imagenet-mobilenet_v1_025_128-feature_vector <h4>Version 1</h4>\\n<ul>\\n<li>Initial release.</li>\\n</ul>\\n<h4>Version 3</h4>\\n<ul>\\n<li>Support for variable input size.</li>\\n<li>Fine-tuning: change default batch norm momentum to 0.99 and\\n    make it configurable.</li>\\n<li>Requires PIP package <code>tensorflow-hub&gt;=0.2.0</code>.</li>\\n</ul>\n",
      "imagenet-mobilenet_v1_025_128-quantops-classification <h4>Version 1</h4>\\n<ul>\\n<li>Initial release.</li>\\n</ul>\\n<h4>Version 3</h4>\\n<ul>\\n<li>Avoids crash in some TFLite/toco versions\\n    (<a href=\"https://github.com/tensorflow/hub/issues/109\">GitHub issue 109</a>)\\n    by overestimating quantization boundaries on input image by 0.05%.</li>\\n<li>Requires PIP package <code>tensorflow-hub&gt;=0.2.0</code>.</li>\\n</ul>\n",
      "imagenet-mobilenet_v1_025_128-quantops-feature_vector <h4>Version 1</h4>\\n<ul>\\n<li>Initial release.</li>\\n</ul>\\n<h4>Version 3</h4>\\n<ul>\\n<li>Avoids crash in some TFLite/toco versions\\n    (<a href=\"https://github.com/tensorflow/hub/issues/109\">GitHub issue 109</a>)\\n    by overestimating quantization boundaries on input image by 0.05%.</li>\\n<li>Requires PIP package <code>tensorflow-hub&gt;=0.2.0</code>.</li>\\n</ul>\n",
      "imagenet-mobilenet_v1_025_160-classification <h4>Version 1</h4>\\n<ul>\\n<li>Initial release.</li>\\n</ul>\\n<h4>Version 3</h4>\\n<ul>\\n<li>Support for variable input size.</li>\\n<li>Fine-tuning: change default batch norm momentum to 0.99 and\\n    make it configurable.</li>\\n<li>Requires PIP package <code>tensorflow-hub&gt;=0.2.0</code>.</li>\\n</ul>\n",
      "imagenet-mobilenet_v1_025_160-feature_vector <h4>Version 1</h4>\\n<ul>\\n<li>Initial release.</li>\\n</ul>\\n<h4>Version 3</h4>\\n<ul>\\n<li>Support for variable input size.</li>\\n<li>Fine-tuning: change default batch norm momentum to 0.99 and\\n    make it configurable.</li>\\n<li>Requires PIP package <code>tensorflow-hub&gt;=0.2.0</code>.</li>\\n</ul>\n",
      "imagenet-mobilenet_v1_025_160-quantops-classification <h4>Version 1</h4>\\n<ul>\\n<li>Initial release.</li>\\n</ul>\\n<h4>Version 3</h4>\\n<ul>\\n<li>Avoids crash in some TFLite/toco versions\\n    (<a href=\"https://github.com/tensorflow/hub/issues/109\">GitHub issue 109</a>)\\n    by overestimating quantization boundaries on input image by 0.05%.</li>\\n<li>Requires PIP package <code>tensorflow-hub&gt;=0.2.0</code>.</li>\\n</ul>\n",
      "imagenet-mobilenet_v1_025_160-quantops-feature_vector <h4>Version 1</h4>\\n<ul>\\n<li>Initial release.</li>\\n</ul>\\n<h4>Version 3</h4>\\n<ul>\\n<li>Avoids crash in some TFLite/toco versions\\n    (<a href=\"https://github.com/tensorflow/hub/issues/109\">GitHub issue 109</a>)\\n    by overestimating quantization boundaries on input image by 0.05%.</li>\\n<li>Requires PIP package <code>tensorflow-hub&gt;=0.2.0</code>.</li>\\n</ul>\n"
     ]
    },
    {
     "name": "stdout",
     "output_type": "stream",
     "text": [
      "imagenet-mobilenet_v1_025_192-classification <h4>Version 1</h4>\\n<ul>\\n<li>Initial release.</li>\\n</ul>\\n<h4>Version 3</h4>\\n<ul>\\n<li>Support for variable input size.</li>\\n<li>Fine-tuning: change default batch norm momentum to 0.99 and\\n    make it configurable.</li>\\n<li>Requires PIP package <code>tensorflow-hub&gt;=0.2.0</code>.</li>\\n</ul>\n",
      "imagenet-mobilenet_v1_025_192-feature_vector <h4>Version 1</h4>\\n<ul>\\n<li>Initial release.</li>\\n</ul>\\n<h4>Version 3</h4>\\n<ul>\\n<li>Support for variable input size.</li>\\n<li>Fine-tuning: change default batch norm momentum to 0.99 and\\n    make it configurable.</li>\\n<li>Requires PIP package <code>tensorflow-hub&gt;=0.2.0</code>.</li>\\n</ul>\n",
      "imagenet-mobilenet_v1_025_192-quantops-classification <h4>Version 1</h4>\\n<ul>\\n<li>Initial release.</li>\\n</ul>\\n<h4>Version 3</h4>\\n<ul>\\n<li>Avoids crash in some TFLite/toco versions\\n    (<a href=\"https://github.com/tensorflow/hub/issues/109\">GitHub issue 109</a>)\\n    by overestimating quantization boundaries on input image by 0.05%.</li>\\n<li>Requires PIP package <code>tensorflow-hub&gt;=0.2.0</code>.</li>\\n</ul>\n",
      "imagenet-mobilenet_v1_025_192-quantops-feature_vector <h4>Version 1</h4>\\n<ul>\\n<li>Initial release.</li>\\n</ul>\\n<h4>Version 3</h4>\\n<ul>\\n<li>Avoids crash in some TFLite/toco versions\\n    (<a href=\"https://github.com/tensorflow/hub/issues/109\">GitHub issue 109</a>)\\n    by overestimating quantization boundaries on input image by 0.05%.</li>\\n<li>Requires PIP package <code>tensorflow-hub&gt;=0.2.0</code>.</li>\\n</ul>\n",
      "imagenet-mobilenet_v1_025_224-classification <h4>Version 1</h4>\\n<ul>\\n<li>Initial release.</li>\\n</ul>\\n<h4>Version 3</h4>\\n<ul>\\n<li>Support for variable input size.</li>\\n<li>Fine-tuning: change default batch norm momentum to 0.99 and\\n    make it configurable.</li>\\n<li>Requires PIP package <code>tensorflow-hub&gt;=0.2.0</code>.</li>\\n</ul>\n",
      "imagenet-mobilenet_v1_025_224-feature_vector <h4>Version 1</h4>\\n<ul>\\n<li>Initial release.</li>\\n</ul>\\n<h4>Version 3</h4>\\n<ul>\\n<li>Support for variable input size.</li>\\n<li>Fine-tuning: change default batch norm momentum to 0.99 and\\n    make it configurable.</li>\\n<li>Requires PIP package <code>tensorflow-hub&gt;=0.2.0</code>.</li>\\n</ul>\n",
      "imagenet-mobilenet_v1_025_224-quantops-classification <h4>Version 1</h4>\\n<ul>\\n<li>Initial release.</li>\\n</ul>\\n<h4>Version 3</h4>\\n<ul>\\n<li>Avoids crash in some TFLite/toco versions\\n    (<a href=\"https://github.com/tensorflow/hub/issues/109\">GitHub issue 109</a>)\\n    by overestimating quantization boundaries on input image by 0.05%.</li>\\n<li>Requires PIP package <code>tensorflow-hub&gt;=0.2.0</code>.</li>\\n</ul>\n",
      "imagenet-mobilenet_v1_025_224-quantops-feature_vector <h4>Version 1</h4>\\n<ul>\\n<li>Initial release.</li>\\n</ul>\\n<h4>Version 3</h4>\\n<ul>\\n<li>Avoids crash in some TFLite/toco versions\\n    (<a href=\"https://github.com/tensorflow/hub/issues/109\">GitHub issue 109</a>)\\n    by overestimating quantization boundaries on input image by 0.05%.</li>\\n<li>Requires PIP package <code>tensorflow-hub&gt;=0.2.0</code>.</li>\\n</ul>\n",
      "imagenet-mobilenet_v1_050_128-classification <h4>Version 1</h4>\\n<ul>\\n<li>Initial release.</li>\\n</ul>\\n<h4>Version 3</h4>\\n<ul>\\n<li>Support for variable input size.</li>\\n<li>Fine-tuning: change default batch norm momentum to 0.99 and\\n    make it configurable.</li>\\n<li>Requires PIP package <code>tensorflow-hub&gt;=0.2.0</code>.</li>\\n</ul>\n",
      "imagenet-mobilenet_v1_050_128-feature_vector <h4>Version 1</h4>\\n<ul>\\n<li>Initial release.</li>\\n</ul>\\n<h4>Version 3</h4>\\n<ul>\\n<li>Support for variable input size.</li>\\n<li>Fine-tuning: change default batch norm momentum to 0.99 and\\n    make it configurable.</li>\\n<li>Requires PIP package <code>tensorflow-hub&gt;=0.2.0</code>.</li>\\n</ul>\n",
      "imagenet-mobilenet_v1_050_128-quantops-classification <h4>Version 1</h4>\\n<ul>\\n<li>Initial release.</li>\\n</ul>\\n<h4>Version 3</h4>\\n<ul>\\n<li>Avoids crash in some TFLite/toco versions\\n    (<a href=\"https://github.com/tensorflow/hub/issues/109\">GitHub issue 109</a>)\\n    by overestimating quantization boundaries on input image by 0.05%.</li>\\n<li>Requires PIP package <code>tensorflow-hub&gt;=0.2.0</code>.</li>\\n</ul>\n",
      "imagenet-mobilenet_v1_050_128-quantops-feature_vector <h4>Version 1</h4>\\n<ul>\\n<li>Initial release.</li>\\n</ul>\\n<h4>Version 3</h4>\\n<ul>\\n<li>Avoids crash in some TFLite/toco versions\\n    (<a href=\"https://github.com/tensorflow/hub/issues/109\">GitHub issue 109</a>)\\n    by overestimating quantization boundaries on input image by 0.05%.</li>\\n<li>Requires PIP package <code>tensorflow-hub&gt;=0.2.0</code>.</li>\\n</ul>\n",
      "imagenet-mobilenet_v1_050_160-classification <h4>Version 1</h4>\\n<ul>\\n<li>Initial release.</li>\\n</ul>\\n<h4>Version 3</h4>\\n<ul>\\n<li>Support for variable input size.</li>\\n<li>Fine-tuning: change default batch norm momentum to 0.99 and\\n    make it configurable.</li>\\n<li>Requires PIP package <code>tensorflow-hub&gt;=0.2.0</code>.</li>\\n</ul>\n",
      "imagenet-mobilenet_v1_050_160-feature_vector <h4>Version 1</h4>\\n<ul>\\n<li>Initial release.</li>\\n</ul>\\n<h4>Version 3</h4>\\n<ul>\\n<li>Support for variable input size.</li>\\n<li>Fine-tuning: change default batch norm momentum to 0.99 and\\n    make it configurable.</li>\\n<li>Requires PIP package <code>tensorflow-hub&gt;=0.2.0</code>.</li>\\n</ul>\n",
      "imagenet-mobilenet_v1_050_160-quantops-classification <h4>Version 1</h4>\\n<ul>\\n<li>Initial release.</li>\\n</ul>\\n<h4>Version 3</h4>\\n<ul>\\n<li>Avoids crash in some TFLite/toco versions\\n    (<a href=\"https://github.com/tensorflow/hub/issues/109\">GitHub issue 109</a>)\\n    by overestimating quantization boundaries on input image by 0.05%.</li>\\n<li>Requires PIP package <code>tensorflow-hub&gt;=0.2.0</code>.</li>\\n</ul>\n",
      "imagenet-mobilenet_v1_050_160-quantops-feature_vector <h4>Version 1</h4>\\n<ul>\\n<li>Initial release.</li>\\n</ul>\\n<h4>Version 3</h4>\\n<ul>\\n<li>Avoids crash in some TFLite/toco versions\\n    (<a href=\"https://github.com/tensorflow/hub/issues/109\">GitHub issue 109</a>)\\n    by overestimating quantization boundaries on input image by 0.05%.</li>\\n<li>Requires PIP package <code>tensorflow-hub&gt;=0.2.0</code>.</li>\\n</ul>\n",
      "imagenet-mobilenet_v1_050_192-classification <h4>Version 1</h4>\\n<ul>\\n<li>Initial release.</li>\\n</ul>\\n<h4>Version 3</h4>\\n<ul>\\n<li>Support for variable input size.</li>\\n<li>Fine-tuning: change default batch norm momentum to 0.99 and\\n    make it configurable.</li>\\n<li>Requires PIP package <code>tensorflow-hub&gt;=0.2.0</code>.</li>\\n</ul>\n",
      "imagenet-mobilenet_v1_050_192-feature_vector <h4>Version 1</h4>\\n<ul>\\n<li>Initial release.</li>\\n</ul>\\n<h4>Version 3</h4>\\n<ul>\\n<li>Support for variable input size.</li>\\n<li>Fine-tuning: change default batch norm momentum to 0.99 and\\n    make it configurable.</li>\\n<li>Requires PIP package <code>tensorflow-hub&gt;=0.2.0</code>.</li>\\n</ul>\n",
      "imagenet-mobilenet_v1_050_192-quantops-classification <h4>Version 1</h4>\\n<ul>\\n<li>Initial release.</li>\\n</ul>\\n<h4>Version 3</h4>\\n<ul>\\n<li>Avoids crash in some TFLite/toco versions\\n    (<a href=\"https://github.com/tensorflow/hub/issues/109\">GitHub issue 109</a>)\\n    by overestimating quantization boundaries on input image by 0.05%.</li>\\n<li>Requires PIP package <code>tensorflow-hub&gt;=0.2.0</code>.</li>\\n</ul>\n",
      "imagenet-mobilenet_v1_050_192-quantops-feature_vector <h4>Version 1</h4>\\n<ul>\\n<li>Initial release.</li>\\n</ul>\\n<h4>Version 3</h4>\\n<ul>\\n<li>Avoids crash in some TFLite/toco versions\\n    (<a href=\"https://github.com/tensorflow/hub/issues/109\">GitHub issue 109</a>)\\n    by overestimating quantization boundaries on input image by 0.05%.</li>\\n<li>Requires PIP package <code>tensorflow-hub&gt;=0.2.0</code>.</li>\\n</ul>\n",
      "imagenet-mobilenet_v1_050_224-classification <h4>Version 1</h4>\\n<ul>\\n<li>Initial release.</li>\\n</ul>\\n<h4>Version 3</h4>\\n<ul>\\n<li>Support for variable input size.</li>\\n<li>Fine-tuning: change default batch norm momentum to 0.99 and\\n    make it configurable.</li>\\n<li>Requires PIP package <code>tensorflow-hub&gt;=0.2.0</code>.</li>\\n</ul>\n"
     ]
    },
    {
     "name": "stdout",
     "output_type": "stream",
     "text": [
      "imagenet-mobilenet_v1_050_224-feature_vector <h4>Version 1</h4>\\n<ul>\\n<li>Initial release.</li>\\n</ul>\\n<h4>Version 3</h4>\\n<ul>\\n<li>Support for variable input size.</li>\\n<li>Fine-tuning: change default batch norm momentum to 0.99 and\\n    make it configurable.</li>\\n<li>Requires PIP package <code>tensorflow-hub&gt;=0.2.0</code>.</li>\\n</ul>\n",
      "imagenet-mobilenet_v1_050_224-quantops-classification <h4>Version 1</h4>\\n<ul>\\n<li>Initial release.</li>\\n</ul>\\n<h4>Version 3</h4>\\n<ul>\\n<li>Avoids crash in some TFLite/toco versions\\n    (<a href=\"https://github.com/tensorflow/hub/issues/109\">GitHub issue 109</a>)\\n    by overestimating quantization boundaries on input image by 0.05%.</li>\\n<li>Requires PIP package <code>tensorflow-hub&gt;=0.2.0</code>.</li>\\n</ul>\n",
      "imagenet-mobilenet_v1_050_224-quantops-feature_vector <h4>Version 1</h4>\\n<ul>\\n<li>Initial release.</li>\\n</ul>\\n<h4>Version 3</h4>\\n<ul>\\n<li>Avoids crash in some TFLite/toco versions\\n    (<a href=\"https://github.com/tensorflow/hub/issues/109\">GitHub issue 109</a>)\\n    by overestimating quantization boundaries on input image by 0.05%.</li>\\n<li>Requires PIP package <code>tensorflow-hub&gt;=0.2.0</code>.</li>\\n</ul>\n",
      "imagenet-mobilenet_v1_075_128-classification <h4>Version 1</h4>\\n<ul>\\n<li>Initial release.</li>\\n</ul>\\n<h4>Version 3</h4>\\n<ul>\\n<li>Support for variable input size.</li>\\n<li>Fine-tuning: change default batch norm momentum to 0.99 and\\n    make it configurable.</li>\\n<li>Requires PIP package <code>tensorflow-hub&gt;=0.2.0</code>.</li>\\n</ul>\n",
      "imagenet-mobilenet_v1_075_128-feature_vector <h4>Version 1</h4>\\n<ul>\\n<li>Initial release.</li>\\n</ul>\\n<h4>Version 3</h4>\\n<ul>\\n<li>Support for variable input size.</li>\\n<li>Fine-tuning: change default batch norm momentum to 0.99 and\\n    make it configurable.</li>\\n<li>Requires PIP package <code>tensorflow-hub&gt;=0.2.0</code>.</li>\\n</ul>\n",
      "imagenet-mobilenet_v1_075_128-quantops-classification <h4>Version 1</h4>\\n<ul>\\n<li>Initial release.</li>\\n</ul>\\n<h4>Version 3</h4>\\n<ul>\\n<li>Avoids crash in some TFLite/toco versions\\n    (<a href=\"https://github.com/tensorflow/hub/issues/109\">GitHub issue 109</a>)\\n    by overestimating quantization boundaries on input image by 0.05%.</li>\\n<li>Requires PIP package <code>tensorflow-hub&gt;=0.2.0</code>.</li>\\n</ul>\n",
      "imagenet-mobilenet_v1_075_128-quantops-feature_vector <h4>Version 1</h4>\\n<ul>\\n<li>Initial release.</li>\\n</ul>\\n<h4>Version 3</h4>\\n<ul>\\n<li>Avoids crash in some TFLite/toco versions\\n    (<a href=\"https://github.com/tensorflow/hub/issues/109\">GitHub issue 109</a>)\\n    by overestimating quantization boundaries on input image by 0.05%.</li>\\n<li>Requires PIP package <code>tensorflow-hub&gt;=0.2.0</code>.</li>\\n</ul>\n",
      "imagenet-mobilenet_v1_075_160-classification <h4>Version 1</h4>\\n<ul>\\n<li>Initial release.</li>\\n</ul>\\n<h4>Version 3</h4>\\n<ul>\\n<li>Support for variable input size.</li>\\n<li>Fine-tuning: change default batch norm momentum to 0.99 and\\n    make it configurable.</li>\\n<li>Requires PIP package <code>tensorflow-hub&gt;=0.2.0</code>.</li>\\n</ul>\n",
      "imagenet-mobilenet_v1_075_160-feature_vector <h4>Version 1</h4>\\n<ul>\\n<li>Initial release.</li>\\n</ul>\\n<h4>Version 3</h4>\\n<ul>\\n<li>Support for variable input size.</li>\\n<li>Fine-tuning: change default batch norm momentum to 0.99 and\\n    make it configurable.</li>\\n<li>Requires PIP package <code>tensorflow-hub&gt;=0.2.0</code>.</li>\\n</ul>\n",
      "imagenet-mobilenet_v1_075_160-quantops-classification <h4>Version 1</h4>\\n<ul>\\n<li>Initial release.</li>\\n</ul>\\n<h4>Version 3</h4>\\n<ul>\\n<li>Avoids crash in some TFLite/toco versions\\n    (<a href=\"https://github.com/tensorflow/hub/issues/109\">GitHub issue 109</a>)\\n    by overestimating quantization boundaries on input image by 0.05%.</li>\\n<li>Requires PIP package <code>tensorflow-hub&gt;=0.2.0</code>.</li>\\n</ul>\n",
      "imagenet-mobilenet_v1_075_160-quantops-feature_vector <h4>Version 1</h4>\\n<ul>\\n<li>Initial release.</li>\\n</ul>\\n<h4>Version 3</h4>\\n<ul>\\n<li>Avoids crash in some TFLite/toco versions\\n    (<a href=\"https://github.com/tensorflow/hub/issues/109\">GitHub issue 109</a>)\\n    by overestimating quantization boundaries on input image by 0.05%.</li>\\n<li>Requires PIP package <code>tensorflow-hub&gt;=0.2.0</code>.</li>\\n</ul>\n",
      "imagenet-mobilenet_v1_075_192-classification <h4>Version 1</h4>\\n<ul>\\n<li>Initial release.</li>\\n</ul>\\n<h4>Version 3</h4>\\n<ul>\\n<li>Support for variable input size.</li>\\n<li>Fine-tuning: change default batch norm momentum to 0.99 and\\n    make it configurable.</li>\\n<li>Requires PIP package <code>tensorflow-hub&gt;=0.2.0</code>.</li>\\n</ul>\n",
      "imagenet-mobilenet_v1_075_192-feature_vector <h4>Version 1</h4>\\n<ul>\\n<li>Initial release.</li>\\n</ul>\\n<h4>Version 3</h4>\\n<ul>\\n<li>Support for variable input size.</li>\\n<li>Fine-tuning: change default batch norm momentum to 0.99 and\\n    make it configurable.</li>\\n<li>Requires PIP package <code>tensorflow-hub&gt;=0.2.0</code>.</li>\\n</ul>\n",
      "imagenet-mobilenet_v1_075_192-quantops-classification <h4>Version 1</h4>\\n<ul>\\n<li>Initial release.</li>\\n</ul>\\n<h4>Version 3</h4>\\n<ul>\\n<li>Avoids crash in some TFLite/toco versions\\n    (<a href=\"https://github.com/tensorflow/hub/issues/109\">GitHub issue 109</a>)\\n    by overestimating quantization boundaries on input image by 0.05%.</li>\\n<li>Requires PIP package <code>tensorflow-hub&gt;=0.2.0</code>.</li>\\n</ul>\n",
      "imagenet-mobilenet_v1_075_192-quantops-feature_vector <h4>Version 1</h4>\\n<ul>\\n<li>Initial release.</li>\\n</ul>\\n<h4>Version 3</h4>\\n<ul>\\n<li>Avoids crash in some TFLite/toco versions\\n    (<a href=\"https://github.com/tensorflow/hub/issues/109\">GitHub issue 109</a>)\\n    by overestimating quantization boundaries on input image by 0.05%.</li>\\n<li>Requires PIP package <code>tensorflow-hub&gt;=0.2.0</code>.</li>\\n</ul>\n",
      "imagenet-mobilenet_v1_075_224-classification <h4>Version 1</h4>\\n<ul>\\n<li>Initial release.</li>\\n</ul>\\n<h4>Version 3</h4>\\n<ul>\\n<li>Support for variable input size.</li>\\n<li>Fine-tuning: change default batch norm momentum to 0.99 and\\n    make it configurable.</li>\\n<li>Requires PIP package <code>tensorflow-hub&gt;=0.2.0</code>.</li>\\n</ul>\n",
      "imagenet-mobilenet_v1_075_224-feature_vector <h4>Version 1</h4>\\n<ul>\\n<li>Initial release.</li>\\n</ul>\\n<h4>Version 3</h4>\\n<ul>\\n<li>Support for variable input size.</li>\\n<li>Fine-tuning: change default batch norm momentum to 0.99 and\\n    make it configurable.</li>\\n<li>Requires PIP package <code>tensorflow-hub&gt;=0.2.0</code>.</li>\\n</ul>\n",
      "imagenet-mobilenet_v1_075_224-quantops-classification <h4>Version 1</h4>\\n<ul>\\n<li>Initial release.</li>\\n</ul>\\n<h4>Version 3</h4>\\n<ul>\\n<li>Avoids crash in some TFLite/toco versions\\n    (<a href=\"https://github.com/tensorflow/hub/issues/109\">GitHub issue 109</a>)\\n    by overestimating quantization boundaries on input image by 0.05%.</li>\\n<li>Requires PIP package <code>tensorflow-hub&gt;=0.2.0</code>.</li>\\n</ul>\n",
      "imagenet-mobilenet_v1_075_224-quantops-feature_vector <h4>Version 1</h4>\\n<ul>\\n<li>Initial release.</li>\\n</ul>\\n<h4>Version 3</h4>\\n<ul>\\n<li>Avoids crash in some TFLite/toco versions\\n    (<a href=\"https://github.com/tensorflow/hub/issues/109\">GitHub issue 109</a>)\\n    by overestimating quantization boundaries on input image by 0.05%.</li>\\n<li>Requires PIP package <code>tensorflow-hub&gt;=0.2.0</code>.</li>\\n</ul>\n",
      "imagenet-mobilenet_v1_100_128-classification <h4>Version 1</h4>\\n<ul>\\n<li>Initial release.</li>\\n</ul>\\n<h4>Version 3</h4>\\n<ul>\\n<li>Support for variable input size.</li>\\n<li>Fine-tuning: change default batch norm momentum to 0.99 and\\n    make it configurable.</li>\\n<li>Requires PIP package <code>tensorflow-hub&gt;=0.2.0</code>.</li>\\n</ul>\n",
      "imagenet-mobilenet_v1_100_128-feature_vector <h4>Version 1</h4>\\n<ul>\\n<li>Initial release.</li>\\n</ul>\\n<h4>Version 3</h4>\\n<ul>\\n<li>Support for variable input size.</li>\\n<li>Fine-tuning: change default batch norm momentum to 0.99 and\\n    make it configurable.</li>\\n<li>Requires PIP package <code>tensorflow-hub&gt;=0.2.0</code>.</li>\\n</ul>\n"
     ]
    },
    {
     "name": "stdout",
     "output_type": "stream",
     "text": [
      "imagenet-mobilenet_v1_100_128-quantops-classification <h4>Version 1</h4>\\n<ul>\\n<li>Initial release.</li>\\n</ul>\\n<h4>Version 3</h4>\\n<ul>\\n<li>Avoids crash in some TFLite/toco versions\\n    (<a href=\"https://github.com/tensorflow/hub/issues/109\">GitHub issue 109</a>)\\n    by overestimating quantization boundaries on input image by 0.05%.</li>\\n<li>Requires PIP package <code>tensorflow-hub&gt;=0.2.0</code>.</li>\\n</ul>\n",
      "imagenet-mobilenet_v1_100_128-quantops-feature_vector <h4>Version 1</h4>\\n<ul>\\n<li>Initial release.</li>\\n</ul>\\n<h4>Version 3</h4>\\n<ul>\\n<li>Avoids crash in some TFLite/toco versions\\n    (<a href=\"https://github.com/tensorflow/hub/issues/109\">GitHub issue 109</a>)\\n    by overestimating quantization boundaries on input image by 0.05%.</li>\\n<li>Requires PIP package <code>tensorflow-hub&gt;=0.2.0</code>.</li>\\n</ul>\n",
      "imagenet-mobilenet_v1_100_160-classification <h4>Version 1</h4>\\n<ul>\\n<li>Initial release.</li>\\n</ul>\\n<h4>Version 3</h4>\\n<ul>\\n<li>Support for variable input size.</li>\\n<li>Fine-tuning: change default batch norm momentum to 0.99 and\\n    make it configurable.</li>\\n<li>Requires PIP package <code>tensorflow-hub&gt;=0.2.0</code>.</li>\\n</ul>\n",
      "imagenet-mobilenet_v1_100_160-feature_vector <h4>Version 1</h4>\\n<ul>\\n<li>Initial release.</li>\\n</ul>\\n<h4>Version 3</h4>\\n<ul>\\n<li>Support for variable input size.</li>\\n<li>Fine-tuning: change default batch norm momentum to 0.99 and\\n    make it configurable.</li>\\n<li>Requires PIP package <code>tensorflow-hub&gt;=0.2.0</code>.</li>\\n</ul>\n",
      "imagenet-mobilenet_v1_100_160-quantops-classification <h4>Version 1</h4>\\n<ul>\\n<li>Initial release.</li>\\n</ul>\\n<h4>Version 3</h4>\\n<ul>\\n<li>Avoids crash in some TFLite/toco versions\\n    (<a href=\"https://github.com/tensorflow/hub/issues/109\">GitHub issue 109</a>)\\n    by overestimating quantization boundaries on input image by 0.05%.</li>\\n<li>Requires PIP package <code>tensorflow-hub&gt;=0.2.0</code>.</li>\\n</ul>\n",
      "imagenet-mobilenet_v1_100_160-quantops-feature_vector <h4>Version 1</h4>\\n<ul>\\n<li>Initial release.</li>\\n</ul>\\n<h4>Version 3</h4>\\n<ul>\\n<li>Avoids crash in some TFLite/toco versions\\n    (<a href=\"https://github.com/tensorflow/hub/issues/109\">GitHub issue 109</a>)\\n    by overestimating quantization boundaries on input image by 0.05%.</li>\\n<li>Requires PIP package <code>tensorflow-hub&gt;=0.2.0</code>.</li>\\n</ul>\n",
      "imagenet-mobilenet_v1_100_192-classification <h4>Version 1</h4>\\n<ul>\\n<li>Initial release.</li>\\n</ul>\\n<h4>Version 3</h4>\\n<ul>\\n<li>Support for variable input size.</li>\\n<li>Fine-tuning: change default batch norm momentum to 0.99 and\\n    make it configurable.</li>\\n<li>Requires PIP package <code>tensorflow-hub&gt;=0.2.0</code>.</li>\\n</ul>\n",
      "imagenet-mobilenet_v1_100_192-feature_vector <h4>Version 1</h4>\\n<ul>\\n<li>Initial release.</li>\\n</ul>\\n<h4>Version 3</h4>\\n<ul>\\n<li>Support for variable input size.</li>\\n<li>Fine-tuning: change default batch norm momentum to 0.99 and\\n    make it configurable.</li>\\n<li>Requires PIP package <code>tensorflow-hub&gt;=0.2.0</code>.</li>\\n</ul>\n",
      "imagenet-mobilenet_v1_100_192-quantops-classification <h4>Version 1</h4>\\n<ul>\\n<li>Initial release.</li>\\n</ul>\\n<h4>Version 3</h4>\\n<ul>\\n<li>Avoids crash in some TFLite/toco versions\\n    (<a href=\"https://github.com/tensorflow/hub/issues/109\">GitHub issue 109</a>)\\n    by overestimating quantization boundaries on input image by 0.05%.</li>\\n<li>Requires PIP package <code>tensorflow-hub&gt;=0.2.0</code>.</li>\\n</ul>\n",
      "imagenet-mobilenet_v1_100_192-quantops-feature_vector <h4>Version 1</h4>\\n<ul>\\n<li>Initial release.</li>\\n</ul>\\n<h4>Version 3</h4>\\n<ul>\\n<li>Avoids crash in some TFLite/toco versions\\n    (<a href=\"https://github.com/tensorflow/hub/issues/109\">GitHub issue 109</a>)\\n    by overestimating quantization boundaries on input image by 0.05%.</li>\\n<li>Requires PIP package <code>tensorflow-hub&gt;=0.2.0</code>.</li>\\n</ul>\n",
      "imagenet-mobilenet_v1_100_224-classification <h4>Version 1</h4>\\n<ul>\\n<li>Initial release.</li>\\n</ul>\\n<h4>Version 3</h4>\\n<ul>\\n<li>Support for variable input size.</li>\\n<li>Fine-tuning: change default batch norm momentum to 0.99 and\\n    make it configurable.</li>\\n<li>Requires PIP package <code>tensorflow-hub&gt;=0.2.0</code>.</li>\\n</ul>\n",
      "imagenet-mobilenet_v1_100_224-feature_vector <h4>Version 1</h4>\\n<ul>\\n<li>Initial release.</li>\\n</ul>\\n<h4>Version 3</h4>\\n<ul>\\n<li>Support for variable input size.</li>\\n<li>Fine-tuning: change default batch norm momentum to 0.99 and\\n    make it configurable.</li>\\n<li>Requires PIP package <code>tensorflow-hub&gt;=0.2.0</code>.</li>\\n</ul>\n",
      "imagenet-mobilenet_v1_100_224-quantops-classification <h4>Version 1</h4>\\n<ul>\\n<li>Initial release.</li>\\n</ul>\\n<h4>Version 3</h4>\\n<ul>\\n<li>Avoids crash in some TFLite/toco versions\\n    (<a href=\"https://github.com/tensorflow/hub/issues/109\">GitHub issue 109</a>)\\n    by overestimating quantization boundaries on input image by 0.05%.</li>\\n<li>Requires PIP package <code>tensorflow-hub&gt;=0.2.0</code>.</li>\\n</ul>\n",
      "imagenet-mobilenet_v1_100_224-quantops-feature_vector <h4>Version 1</h4>\\n<ul>\\n<li>Initial release.</li>\\n</ul>\\n<h4>Version 3</h4>\\n<ul>\\n<li>Avoids crash in some TFLite/toco versions\\n    (<a href=\"https://github.com/tensorflow/hub/issues/109\">GitHub issue 109</a>)\\n    by overestimating quantization boundaries on input image by 0.05%.</li>\\n<li>Requires PIP package <code>tensorflow-hub&gt;=0.2.0</code>.</li>\\n</ul>\n",
      "imagenet-mobilenet_v2_035_128-classification <h4>Version 1</h4>\\n<ul>\\n<li>Initial release.</li>\\n</ul>\\n<h4>Version 2</h4>\\n<ul>\\n<li>Fixed broken UPDATE_OPS for fine-tuning*comma*\\n    <a href=\"https://github.com/tensorflow/hub/issues/86\">GitHub issue 86</a>.</li>\\n</ul>\\n<h4>Version 3</h4>\\n<ul>\\n<li>Fine-tuning: change default batch norm momentum to 0.99 and\\n    make it configurable.</li>\\n<li>Requires PIP package <code>tensorflow-hub&gt;=0.2.0</code>.</li>\\n</ul>\n",
      "imagenet-mobilenet_v2_035_128-feature_vector <h4>Version 1</h4>\\n<ul>\\n<li>Initial release.</li>\\n</ul>\\n<h4>Version 2</h4>\\n<ul>\\n<li>Fixed broken UPDATE_OPS for fine-tuning*comma*\\n    <a href=\"https://github.com/tensorflow/hub/issues/86\">GitHub issue 86</a>.</li>\\n</ul>\\n<h4>Version 3</h4>\\n<ul>\\n<li>Fine-tuning: change default batch norm momentum to 0.99 and\\n    make it configurable.</li>\\n<li>Requires PIP package <code>tensorflow-hub&gt;=0.2.0</code>.</li>\\n</ul>\n",
      "imagenet-mobilenet_v2_035_160-classification <h4>Version 1</h4>\\n<ul>\\n<li>Initial release.</li>\\n</ul>\\n<h4>Version 2</h4>\\n<ul>\\n<li>Fixed broken UPDATE_OPS for fine-tuning*comma*\\n    <a href=\"https://github.com/tensorflow/hub/issues/86\">GitHub issue 86</a>.</li>\\n</ul>\\n<h4>Version 3</h4>\\n<ul>\\n<li>Fine-tuning: change default batch norm momentum to 0.99 and\\n    make it configurable.</li>\\n<li>Requires PIP package <code>tensorflow-hub&gt;=0.2.0</code>.</li>\\n</ul>\n",
      "imagenet-mobilenet_v2_035_160-feature_vector <h4>Version 1</h4>\\n<ul>\\n<li>Initial release.</li>\\n</ul>\\n<h4>Version 2</h4>\\n<ul>\\n<li>Fixed broken UPDATE_OPS for fine-tuning*comma*\\n    <a href=\"https://github.com/tensorflow/hub/issues/86\">GitHub issue 86</a>.</li>\\n</ul>\\n<h4>Version 3</h4>\\n<ul>\\n<li>Fine-tuning: change default batch norm momentum to 0.99 and\\n    make it configurable.</li>\\n<li>Requires PIP package <code>tensorflow-hub&gt;=0.2.0</code>.</li>\\n</ul>\n",
      "imagenet-mobilenet_v2_035_192-classification <h4>Version 1</h4>\\n<ul>\\n<li>Initial release.</li>\\n</ul>\\n<h4>Version 2</h4>\\n<ul>\\n<li>Fixed broken UPDATE_OPS for fine-tuning*comma*\\n    <a href=\"https://github.com/tensorflow/hub/issues/86\">GitHub issue 86</a>.</li>\\n</ul>\\n<h4>Version 3</h4>\\n<ul>\\n<li>Fine-tuning: change default batch norm momentum to 0.99 and\\n    make it configurable.</li>\\n<li>Requires PIP package <code>tensorflow-hub&gt;=0.2.0</code>.</li>\\n</ul>\n"
     ]
    },
    {
     "name": "stdout",
     "output_type": "stream",
     "text": [
      "imagenet-mobilenet_v2_035_192-feature_vector <h4>Version 1</h4>\\n<ul>\\n<li>Initial release.</li>\\n</ul>\\n<h4>Version 2</h4>\\n<ul>\\n<li>Fixed broken UPDATE_OPS for fine-tuning*comma*\\n    <a href=\"https://github.com/tensorflow/hub/issues/86\">GitHub issue 86</a>.</li>\\n</ul>\\n<h4>Version 3</h4>\\n<ul>\\n<li>Fine-tuning: change default batch norm momentum to 0.99 and\\n    make it configurable.</li>\\n<li>Requires PIP package <code>tensorflow-hub&gt;=0.2.0</code>.</li>\\n</ul>\n",
      "imagenet-mobilenet_v2_035_224-classification <h4>Version 1</h4>\\n<ul>\\n<li>Initial release.</li>\\n</ul>\\n<h4>Version 2</h4>\\n<ul>\\n<li>Fixed broken UPDATE_OPS for fine-tuning*comma*\\n    <a href=\"https://github.com/tensorflow/hub/issues/86\">GitHub issue 86</a>.</li>\\n</ul>\\n<h4>Version 3</h4>\\n<ul>\\n<li>Fine-tuning: change default batch norm momentum to 0.99 and\\n    make it configurable.</li>\\n<li>Requires PIP package <code>tensorflow-hub&gt;=0.2.0</code>.</li>\\n</ul>\n",
      "imagenet-mobilenet_v2_035_224-feature_vector <h4>Version 1</h4>\\n<ul>\\n<li>Initial release.</li>\\n</ul>\\n<h4>Version 2</h4>\\n<ul>\\n<li>Fixed broken UPDATE_OPS for fine-tuning*comma*\\n    <a href=\"https://github.com/tensorflow/hub/issues/86\">GitHub issue 86</a>.</li>\\n</ul>\\n<h4>Version 3</h4>\\n<ul>\\n<li>Fine-tuning: change default batch norm momentum to 0.99 and\\n    make it configurable.</li>\\n<li>Requires PIP package <code>tensorflow-hub&gt;=0.2.0</code>.</li>\\n</ul>\n",
      "imagenet-mobilenet_v2_035_96-classification <h4>Version 1</h4>\\n<ul>\\n<li>Initial release.</li>\\n</ul>\\n<h4>Version 2</h4>\\n<ul>\\n<li>Fixed broken UPDATE_OPS for fine-tuning*comma*\\n    <a href=\"https://github.com/tensorflow/hub/issues/86\">GitHub issue 86</a>.</li>\\n</ul>\\n<h4>Version 3</h4>\\n<ul>\\n<li>Fine-tuning: change default batch norm momentum to 0.99 and\\n    make it configurable.</li>\\n<li>Requires PIP package <code>tensorflow-hub&gt;=0.2.0</code>.</li>\\n</ul>\n",
      "imagenet-mobilenet_v2_035_96-feature_vector <h4>Version 1</h4>\\n<ul>\\n<li>Initial release.</li>\\n</ul>\\n<h4>Version 2</h4>\\n<ul>\\n<li>Fixed broken UPDATE_OPS for fine-tuning*comma*\\n    <a href=\"https://github.com/tensorflow/hub/issues/86\">GitHub issue 86</a>.</li>\\n</ul>\\n<h4>Version 3</h4>\\n<ul>\\n<li>Fine-tuning: change default batch norm momentum to 0.99 and\\n    make it configurable.</li>\\n<li>Requires PIP package <code>tensorflow-hub&gt;=0.2.0</code>.</li>\\n</ul>\n",
      "imagenet-mobilenet_v2_050_128-classification <h4>Version 1</h4>\\n<ul>\\n<li>Initial release.</li>\\n</ul>\\n<h4>Version 2</h4>\\n<ul>\\n<li>Fixed broken UPDATE_OPS for fine-tuning*comma*\\n    <a href=\"https://github.com/tensorflow/hub/issues/86\">GitHub issue 86</a>.</li>\\n</ul>\\n<h4>Version 3</h4>\\n<ul>\\n<li>Fine-tuning: change default batch norm momentum to 0.99 and\\n    make it configurable.</li>\\n<li>Requires PIP package <code>tensorflow-hub&gt;=0.2.0</code>.</li>\\n</ul>\n",
      "imagenet-mobilenet_v2_050_128-feature_vector <h4>Version 1</h4>\\n<ul>\\n<li>Initial release.</li>\\n</ul>\\n<h4>Version 2</h4>\\n<ul>\\n<li>Fixed broken UPDATE_OPS for fine-tuning*comma*\\n    <a href=\"https://github.com/tensorflow/hub/issues/86\">GitHub issue 86</a>.</li>\\n</ul>\\n<h4>Version 3</h4>\\n<ul>\\n<li>Fine-tuning: change default batch norm momentum to 0.99 and\\n    make it configurable.</li>\\n<li>Requires PIP package <code>tensorflow-hub&gt;=0.2.0</code>.</li>\\n</ul>\n",
      "imagenet-mobilenet_v2_050_160-classification <h4>Version 1</h4>\\n<ul>\\n<li>Initial release.</li>\\n</ul>\\n<h4>Version 2</h4>\\n<ul>\\n<li>Fixed broken UPDATE_OPS for fine-tuning*comma*\\n    <a href=\"https://github.com/tensorflow/hub/issues/86\">GitHub issue 86</a>.</li>\\n</ul>\\n<h4>Version 3</h4>\\n<ul>\\n<li>Fine-tuning: change default batch norm momentum to 0.99 and\\n    make it configurable.</li>\\n<li>Requires PIP package <code>tensorflow-hub&gt;=0.2.0</code>.</li>\\n</ul>\n",
      "imagenet-mobilenet_v2_050_160-feature_vector <h4>Version 1</h4>\\n<ul>\\n<li>Initial release.</li>\\n</ul>\\n<h4>Version 2</h4>\\n<ul>\\n<li>Fixed broken UPDATE_OPS for fine-tuning*comma*\\n    <a href=\"https://github.com/tensorflow/hub/issues/86\">GitHub issue 86</a>.</li>\\n</ul>\\n<h4>Version 3</h4>\\n<ul>\\n<li>Fine-tuning: change default batch norm momentum to 0.99 and\\n    make it configurable.</li>\\n<li>Requires PIP package <code>tensorflow-hub&gt;=0.2.0</code>.</li>\\n</ul>\n",
      "imagenet-mobilenet_v2_050_192-classification <h4>Version 1</h4>\\n<ul>\\n<li>Initial release.</li>\\n</ul>\\n<h4>Version 2</h4>\\n<ul>\\n<li>Fixed broken UPDATE_OPS for fine-tuning*comma*\\n    <a href=\"https://github.com/tensorflow/hub/issues/86\">GitHub issue 86</a>.</li>\\n</ul>\\n<h4>Version 3</h4>\\n<ul>\\n<li>Fine-tuning: change default batch norm momentum to 0.99 and\\n    make it configurable.</li>\\n<li>Requires PIP package <code>tensorflow-hub&gt;=0.2.0</code>.</li>\\n</ul>\n",
      "imagenet-mobilenet_v2_050_192-feature_vector <h4>Version 1</h4>\\n<ul>\\n<li>Initial release.</li>\\n</ul>\\n<h4>Version 2</h4>\\n<ul>\\n<li>Fixed broken UPDATE_OPS for fine-tuning*comma*\\n    <a href=\"https://github.com/tensorflow/hub/issues/86\">GitHub issue 86</a>.</li>\\n</ul>\\n<h4>Version 3</h4>\\n<ul>\\n<li>Fine-tuning: change default batch norm momentum to 0.99 and\\n    make it configurable.</li>\\n<li>Requires PIP package <code>tensorflow-hub&gt;=0.2.0</code>.</li>\\n</ul>\n",
      "imagenet-mobilenet_v2_050_224-classification <h4>Version 1</h4>\\n<ul>\\n<li>Initial release.</li>\\n</ul>\\n<h4>Version 2</h4>\\n<ul>\\n<li>Fixed broken UPDATE_OPS for fine-tuning*comma*\\n    <a href=\"https://github.com/tensorflow/hub/issues/86\">GitHub issue 86</a>.</li>\\n</ul>\\n<h4>Version 3</h4>\\n<ul>\\n<li>Fine-tuning: change default batch norm momentum to 0.99 and\\n    make it configurable.</li>\\n<li>Requires PIP package <code>tensorflow-hub&gt;=0.2.0</code>.</li>\\n</ul>\n",
      "imagenet-mobilenet_v2_050_224-feature_vector <h4>Version 1</h4>\\n<ul>\\n<li>Initial release.</li>\\n</ul>\\n<h4>Version 2</h4>\\n<ul>\\n<li>Fixed broken UPDATE_OPS for fine-tuning*comma*\\n    <a href=\"https://github.com/tensorflow/hub/issues/86\">GitHub issue 86</a>.</li>\\n</ul>\\n<h4>Version 3</h4>\\n<ul>\\n<li>Fine-tuning: change default batch norm momentum to 0.99 and\\n    make it configurable.</li>\\n<li>Requires PIP package <code>tensorflow-hub&gt;=0.2.0</code>.</li>\\n</ul>\n",
      "imagenet-mobilenet_v2_050_96-classification <h4>Version 1</h4>\\n<ul>\\n<li>Initial release.</li>\\n</ul>\\n<h4>Version 2</h4>\\n<ul>\\n<li>Fixed broken UPDATE_OPS for fine-tuning*comma*\\n    <a href=\"https://github.com/tensorflow/hub/issues/86\">GitHub issue 86</a>.</li>\\n</ul>\\n<h4>Version 3</h4>\\n<ul>\\n<li>Fine-tuning: change default batch norm momentum to 0.99 and\\n    make it configurable.</li>\\n<li>Requires PIP package <code>tensorflow-hub&gt;=0.2.0</code>.</li>\\n</ul>\n",
      "imagenet-mobilenet_v2_050_96-feature_vector <h4>Version 1</h4>\\n<ul>\\n<li>Initial release.</li>\\n</ul>\\n<h4>Version 2</h4>\\n<ul>\\n<li>Fixed broken UPDATE_OPS for fine-tuning*comma*\\n    <a href=\"https://github.com/tensorflow/hub/issues/86\">GitHub issue 86</a>.</li>\\n</ul>\\n<h4>Version 3</h4>\\n<ul>\\n<li>Fine-tuning: change default batch norm momentum to 0.99 and\\n    make it configurable.</li>\\n<li>Requires PIP package <code>tensorflow-hub&gt;=0.2.0</code>.</li>\\n</ul>\n",
      "imagenet-mobilenet_v2_075_128-classification <h4>Version 1</h4>\\n<ul>\\n<li>Initial release.</li>\\n</ul>\\n<h4>Version 2</h4>\\n<ul>\\n<li>Fixed broken UPDATE_OPS for fine-tuning*comma*\\n    <a href=\"https://github.com/tensorflow/hub/issues/86\">GitHub issue 86</a>.</li>\\n</ul>\\n<h4>Version 3</h4>\\n<ul>\\n<li>Fine-tuning: change default batch norm momentum to 0.99 and\\n    make it configurable.</li>\\n<li>Requires PIP package <code>tensorflow-hub&gt;=0.2.0</code>.</li>\\n</ul>\n",
      "imagenet-mobilenet_v2_075_128-feature_vector <h4>Version 1</h4>\\n<ul>\\n<li>Initial release.</li>\\n</ul>\\n<h4>Version 2</h4>\\n<ul>\\n<li>Fixed broken UPDATE_OPS for fine-tuning*comma*\\n    <a href=\"https://github.com/tensorflow/hub/issues/86\">GitHub issue 86</a>.</li>\\n</ul>\\n<h4>Version 3</h4>\\n<ul>\\n<li>Fine-tuning: change default batch norm momentum to 0.99 and\\n    make it configurable.</li>\\n<li>Requires PIP package <code>tensorflow-hub&gt;=0.2.0</code>.</li>\\n</ul>\n"
     ]
    },
    {
     "name": "stdout",
     "output_type": "stream",
     "text": [
      "imagenet-mobilenet_v2_075_160-classification <h4>Version 1</h4>\\n<ul>\\n<li>Initial release.</li>\\n</ul>\\n<h4>Version 2</h4>\\n<ul>\\n<li>Fixed broken UPDATE_OPS for fine-tuning*comma*\\n    <a href=\"https://github.com/tensorflow/hub/issues/86\">GitHub issue 86</a>.</li>\\n</ul>\\n<h4>Version 3</h4>\\n<ul>\\n<li>Fine-tuning: change default batch norm momentum to 0.99 and\\n    make it configurable.</li>\\n<li>Requires PIP package <code>tensorflow-hub&gt;=0.2.0</code>.</li>\\n</ul>\n",
      "imagenet-mobilenet_v2_075_160-feature_vector <h4>Version 1</h4>\\n<ul>\\n<li>Initial release.</li>\\n</ul>\\n<h4>Version 2</h4>\\n<ul>\\n<li>Fixed broken UPDATE_OPS for fine-tuning*comma*\\n    <a href=\"https://github.com/tensorflow/hub/issues/86\">GitHub issue 86</a>.</li>\\n</ul>\\n<h4>Version 3</h4>\\n<ul>\\n<li>Fine-tuning: change default batch norm momentum to 0.99 and\\n    make it configurable.</li>\\n<li>Requires PIP package <code>tensorflow-hub&gt;=0.2.0</code>.</li>\\n</ul>\n",
      "imagenet-mobilenet_v2_075_192-classification <h4>Version 1</h4>\\n<ul>\\n<li>Initial release.</li>\\n</ul>\\n<h4>Version 2</h4>\\n<ul>\\n<li>Fixed broken UPDATE_OPS for fine-tuning*comma*\\n    <a href=\"https://github.com/tensorflow/hub/issues/86\">GitHub issue 86</a>.</li>\\n</ul>\\n<h4>Version 3</h4>\\n<ul>\\n<li>Fine-tuning: change default batch norm momentum to 0.99 and\\n    make it configurable.</li>\\n<li>Requires PIP package <code>tensorflow-hub&gt;=0.2.0</code>.</li>\\n</ul>\n",
      "imagenet-mobilenet_v2_075_192-feature_vector <h4>Version 1</h4>\\n<ul>\\n<li>Initial release.</li>\\n</ul>\\n<h4>Version 2</h4>\\n<ul>\\n<li>Fixed broken UPDATE_OPS for fine-tuning*comma*\\n    <a href=\"https://github.com/tensorflow/hub/issues/86\">GitHub issue 86</a>.</li>\\n</ul>\\n<h4>Version 3</h4>\\n<ul>\\n<li>Fine-tuning: change default batch norm momentum to 0.99 and\\n    make it configurable.</li>\\n<li>Requires PIP package <code>tensorflow-hub&gt;=0.2.0</code>.</li>\\n</ul>\n",
      "imagenet-mobilenet_v2_075_224-classification <h4>Version 1</h4>\\n<ul>\\n<li>Initial release.</li>\\n</ul>\\n<h4>Version 2</h4>\\n<ul>\\n<li>Fixed broken UPDATE_OPS for fine-tuning*comma*\\n    <a href=\"https://github.com/tensorflow/hub/issues/86\">GitHub issue 86</a>.</li>\\n</ul>\\n<h4>Version 3</h4>\\n<ul>\\n<li>Fine-tuning: change default batch norm momentum to 0.99 and\\n    make it configurable.</li>\\n<li>Requires PIP package <code>tensorflow-hub&gt;=0.2.0</code>.</li>\\n</ul>\n",
      "imagenet-mobilenet_v2_075_224-feature_vector <h4>Version 1</h4>\\n<ul>\\n<li>Initial release.</li>\\n</ul>\\n<h4>Version 2</h4>\\n<ul>\\n<li>Fixed broken UPDATE_OPS for fine-tuning*comma*\\n    <a href=\"https://github.com/tensorflow/hub/issues/86\">GitHub issue 86</a>.</li>\\n</ul>\\n<h4>Version 3</h4>\\n<ul>\\n<li>Fine-tuning: change default batch norm momentum to 0.99 and\\n    make it configurable.</li>\\n<li>Requires PIP package <code>tensorflow-hub&gt;=0.2.0</code>.</li>\\n</ul>\n",
      "imagenet-mobilenet_v2_075_96-classification <h4>Version 1</h4>\\n<ul>\\n<li>Initial release.</li>\\n</ul>\\n<h4>Version 2</h4>\\n<ul>\\n<li>Fixed broken UPDATE_OPS for fine-tuning*comma*\\n    <a href=\"https://github.com/tensorflow/hub/issues/86\">GitHub issue 86</a>.</li>\\n</ul>\\n<h4>Version 3</h4>\\n<ul>\\n<li>Fine-tuning: change default batch norm momentum to 0.99 and\\n    make it configurable.</li>\\n<li>Requires PIP package <code>tensorflow-hub&gt;=0.2.0</code>.</li>\\n</ul>\n",
      "imagenet-mobilenet_v2_075_96-feature_vector <h4>Version 1</h4>\\n<ul>\\n<li>Initial release.</li>\\n</ul>\\n<h4>Version 2</h4>\\n<ul>\\n<li>Fixed broken UPDATE_OPS for fine-tuning*comma*\\n    <a href=\"https://github.com/tensorflow/hub/issues/86\">GitHub issue 86</a>.</li>\\n</ul>\\n<h4>Version 3</h4>\\n<ul>\\n<li>Fine-tuning: change default batch norm momentum to 0.99 and\\n    make it configurable.</li>\\n<li>Requires PIP package <code>tensorflow-hub&gt;=0.2.0</code>.</li>\\n</ul>\n",
      "imagenet-mobilenet_v2_100_128-classification <h4>Version 1</h4>\\n<ul>\\n<li>Initial release.</li>\\n</ul>\\n<h4>Version 2</h4>\\n<ul>\\n<li>Fixed broken UPDATE_OPS for fine-tuning*comma*\\n    <a href=\"https://github.com/tensorflow/hub/issues/86\">GitHub issue 86</a>.</li>\\n</ul>\\n<h4>Version 3</h4>\\n<ul>\\n<li>Fine-tuning: change default batch norm momentum to 0.99 and\\n    make it configurable.</li>\\n<li>Requires PIP package <code>tensorflow-hub&gt;=0.2.0</code>.</li>\\n</ul>\n",
      "imagenet-mobilenet_v2_100_128-feature_vector <h4>Version 1</h4>\\n<ul>\\n<li>Initial release.</li>\\n</ul>\\n<h4>Version 2</h4>\\n<ul>\\n<li>Fixed broken UPDATE_OPS for fine-tuning*comma*\\n    <a href=\"https://github.com/tensorflow/hub/issues/86\">GitHub issue 86</a>.</li>\\n</ul>\\n<h4>Version 3</h4>\\n<ul>\\n<li>Fine-tuning: change default batch norm momentum to 0.99 and\\n    make it configurable.</li>\\n<li>Requires PIP package <code>tensorflow-hub&gt;=0.2.0</code>.</li>\\n</ul>\n",
      "imagenet-mobilenet_v2_100_160-classification <h4>Version 1</h4>\\n<ul>\\n<li>Initial release.</li>\\n</ul>\\n<h4>Version 2</h4>\\n<ul>\\n<li>Fixed broken UPDATE_OPS for fine-tuning*comma*\\n    <a href=\"https://github.com/tensorflow/hub/issues/86\">GitHub issue 86</a>.</li>\\n</ul>\\n<h4>Version 3</h4>\\n<ul>\\n<li>Fine-tuning: change default batch norm momentum to 0.99 and\\n    make it configurable.</li>\\n<li>Requires PIP package <code>tensorflow-hub&gt;=0.2.0</code>.</li>\\n</ul>\n",
      "imagenet-mobilenet_v2_100_160-feature_vector <h4>Version 1</h4>\\n<ul>\\n<li>Initial release.</li>\\n</ul>\\n<h4>Version 2</h4>\\n<ul>\\n<li>Fixed broken UPDATE_OPS for fine-tuning*comma*\\n    <a href=\"https://github.com/tensorflow/hub/issues/86\">GitHub issue 86</a>.</li>\\n</ul>\\n<h4>Version 3</h4>\\n<ul>\\n<li>Fine-tuning: change default batch norm momentum to 0.99 and\\n    make it configurable.</li>\\n<li>Requires PIP package <code>tensorflow-hub&gt;=0.2.0</code>.</li>\\n</ul>\n",
      "imagenet-mobilenet_v2_100_192-classification <h4>Version 1</h4>\\n<ul>\\n<li>Initial release.</li>\\n</ul>\\n<h4>Version 2</h4>\\n<ul>\\n<li>Fixed broken UPDATE_OPS for fine-tuning*comma*\\n    <a href=\"https://github.com/tensorflow/hub/issues/86\">GitHub issue 86</a>.</li>\\n</ul>\\n<h4>Version 3</h4>\\n<ul>\\n<li>Fine-tuning: change default batch norm momentum to 0.99 and\\n    make it configurable.</li>\\n<li>Requires PIP package <code>tensorflow-hub&gt;=0.2.0</code>.</li>\\n</ul>\n",
      "imagenet-mobilenet_v2_100_192-feature_vector <h4>Version 1</h4>\\n<ul>\\n<li>Initial release.</li>\\n</ul>\\n<h4>Version 2</h4>\\n<ul>\\n<li>Fixed broken UPDATE_OPS for fine-tuning*comma*\\n    <a href=\"https://github.com/tensorflow/hub/issues/86\">GitHub issue 86</a>.</li>\\n</ul>\\n<h4>Version 3</h4>\\n<ul>\\n<li>Fine-tuning: change default batch norm momentum to 0.99 and\\n    make it configurable.</li>\\n<li>Requires PIP package <code>tensorflow-hub&gt;=0.2.0</code>.</li>\\n</ul>\n",
      "imagenet-mobilenet_v2_100_224-classification <h4>Version 1</h4>\\n<ul>\\n<li>Initial release.</li>\\n</ul>\\n<h4>Version 2</h4>\\n<ul>\\n<li>Fixed broken UPDATE_OPS for fine-tuning*comma*\\n    <a href=\"https://github.com/tensorflow/hub/issues/86\">GitHub issue 86</a>.</li>\\n</ul>\\n<h4>Version 3</h4>\\n<ul>\\n<li>Fine-tuning: change default batch norm momentum to 0.99 and\\n    make it configurable.</li>\\n<li>Requires PIP package <code>tensorflow-hub&gt;=0.2.0</code>.</li>\\n</ul>\n",
      "imagenet-mobilenet_v2_100_224-feature_vector <h4>Version 1</h4>\\n<ul>\\n<li>Initial release.</li>\\n</ul>\\n<h4>Version 2</h4>\\n<ul>\\n<li>Fixed broken UPDATE_OPS for fine-tuning*comma*\\n    <a href=\"https://github.com/tensorflow/hub/issues/86\">GitHub issue 86</a>.</li>\\n</ul>\\n<h4>Version 3</h4>\\n<ul>\\n<li>Fine-tuning: change default batch norm momentum to 0.99 and\\n    make it configurable.</li>\\n<li>Requires PIP package <code>tensorflow-hub&gt;=0.2.0</code>.</li>\\n</ul>\n",
      "imagenet-mobilenet_v2_100_96-classification <h4>Version 1</h4>\\n<ul>\\n<li>Initial release.</li>\\n</ul>\\n<h4>Version 2</h4>\\n<ul>\\n<li>Fixed broken UPDATE_OPS for fine-tuning*comma*\\n    <a href=\"https://github.com/tensorflow/hub/issues/86\">GitHub issue 86</a>.</li>\\n</ul>\\n<h4>Version 3</h4>\\n<ul>\\n<li>Fine-tuning: change default batch norm momentum to 0.99 and\\n    make it configurable.</li>\\n<li>Requires PIP package <code>tensorflow-hub&gt;=0.2.0</code>.</li>\\n</ul>\n"
     ]
    },
    {
     "name": "stdout",
     "output_type": "stream",
     "text": [
      "imagenet-mobilenet_v2_100_96-feature_vector <h4>Version 1</h4>\\n<ul>\\n<li>Initial release.</li>\\n</ul>\\n<h4>Version 2</h4>\\n<ul>\\n<li>Fixed broken UPDATE_OPS for fine-tuning*comma*\\n    <a href=\"https://github.com/tensorflow/hub/issues/86\">GitHub issue 86</a>.</li>\\n</ul>\\n<h4>Version 3</h4>\\n<ul>\\n<li>Fine-tuning: change default batch norm momentum to 0.99 and\\n    make it configurable.</li>\\n<li>Requires PIP package <code>tensorflow-hub&gt;=0.2.0</code>.</li>\\n</ul>\n",
      "imagenet-mobilenet_v2_130_224-classification <h4>Version 1</h4>\\n<ul>\\n<li>Initial release.</li>\\n</ul>\\n<h4>Version 2</h4>\\n<ul>\\n<li>Fixed broken UPDATE_OPS for fine-tuning*comma*\\n    <a href=\"https://github.com/tensorflow/hub/issues/86\">GitHub issue 86</a>.</li>\\n</ul>\\n<h4>Version 3</h4>\\n<ul>\\n<li>Fine-tuning: change default batch norm momentum to 0.99 and\\n    make it configurable.</li>\\n<li>Requires PIP package <code>tensorflow-hub&gt;=0.2.0</code>.</li>\\n</ul>\n",
      "imagenet-mobilenet_v2_130_224-feature_vector <h4>Version 1</h4>\\n<ul>\\n<li>Initial release.</li>\\n</ul>\\n<h4>Version 2</h4>\\n<ul>\\n<li>Fixed broken UPDATE_OPS for fine-tuning*comma*\\n    <a href=\"https://github.com/tensorflow/hub/issues/86\">GitHub issue 86</a>.</li>\\n</ul>\\n<h4>Version 3</h4>\\n<ul>\\n<li>Fine-tuning: change default batch norm momentum to 0.99 and\\n    make it configurable.</li>\\n<li>Requires PIP package <code>tensorflow-hub&gt;=0.2.0</code>.</li>\\n</ul>\n",
      "imagenet-mobilenet_v2_140_224-classification <h4>Version 1</h4>\\n<ul>\\n<li>Initial release.</li>\\n</ul>\\n<h4>Version 2</h4>\\n<ul>\\n<li>Fixed broken UPDATE_OPS for fine-tuning*comma*\\n    <a href=\"https://github.com/tensorflow/hub/issues/86\">GitHub issue 86</a>.</li>\\n</ul>\\n<h4>Version 3</h4>\\n<ul>\\n<li>Fine-tuning: change default batch norm momentum to 0.99 and\\n    make it configurable.</li>\\n<li>Requires PIP package <code>tensorflow-hub&gt;=0.2.0</code>.</li>\\n</ul>\n",
      "imagenet-mobilenet_v2_140_224-feature_vector <h4>Version 1</h4>\\n<ul>\\n<li>Initial release.</li>\\n</ul>\\n<h4>Version 2</h4>\\n<ul>\\n<li>Fixed broken UPDATE_OPS for fine-tuning*comma*\\n    <a href=\"https://github.com/tensorflow/hub/issues/86\">GitHub issue 86</a>.</li>\\n</ul>\\n<h4>Version 3</h4>\\n<ul>\\n<li>Fine-tuning: change default batch norm momentum to 0.99 and\\n    make it configurable.</li>\\n<li>Requires PIP package <code>tensorflow-hub&gt;=0.2.0</code>.</li>\\n</ul>\n",
      "imagenet-nasnet_large-classification <h4>Version 1</h4>\\n<ul>\\n<li>Initial release.</li>\\n</ul>\\n<h4>Version 3</h4>\\n<ul>\\n<li>Fine-tuning: change default batch norm momentum to 0.99 and\\n    make it configurable.</li>\\n<li>Requires PIP package <code>tensorflow-hub&gt;=0.2.0</code>.</li>\\n</ul>\n",
      "imagenet-nasnet_large-feature_vector <h4>Version 1</h4>\\n<ul>\\n<li>Initial release.</li>\\n</ul>\\n<h4>Version 3</h4>\\n<ul>\\n<li>Fine-tuning: change default batch norm momentum to 0.99 and\\n    make it configurable.</li>\\n<li>Requires PIP package <code>tensorflow-hub&gt;=0.2.0</code>.</li>\\n</ul>\n",
      "imagenet-nasnet_mobile-classification <h4>Version 1</h4>\\n<ul>\\n<li>Initial release.</li>\\n</ul>\\n<h4>Version 3</h4>\\n<ul>\\n<li>Fine-tuning: change default batch norm momentum to 0.99 and\\n    make it configurable.</li>\\n<li>Requires PIP package <code>tensorflow-hub&gt;=0.2.0</code>.</li>\\n</ul>\n",
      "imagenet-nasnet_mobile-feature_vector <h4>Version 1</h4>\\n<ul>\\n<li>Initial release.</li>\\n</ul>\\n<h4>Version 3</h4>\\n<ul>\\n<li>Fine-tuning: change default batch norm momentum to 0.99 and\\n    make it configurable.</li>\\n<li>Requires PIP package <code>tensorflow-hub&gt;=0.2.0</code>.</li>\\n</ul>\n",
      "imagenet-pnasnet_large-classification <h4>Version 1</h4>\\n<ul>\\n<li>Initial release.</li>\\n</ul>\\n<h4>Version 2</h4>\\n<ul>\\n<li>Fixed broken UPDATE_OPS for fine-tuning*comma*\\n    <a href=\"https://github.com/tensorflow/hub/issues/86\">GitHub issue 86</a>.</li>\\n</ul>\\n<h4>Version 3</h4>\\n<ul>\\n<li>Fine-tuning: change default batch norm momentum to 0.99 and\\n    make it configurable.</li>\\n<li>Requires PIP package <code>tensorflow-hub&gt;=0.2.0</code>.</li>\\n</ul>\n",
      "imagenet-pnasnet_large-feature_vector <h4>Version 1</h4>\\n<ul>\\n<li>Initial release.</li>\\n</ul>\\n<h4>Version 2</h4>\\n<ul>\\n<li>Fixed broken UPDATE_OPS for fine-tuning*comma*\\n    <a href=\"https://github.com/tensorflow/hub/issues/86\">GitHub issue 86</a>.</li>\\n</ul>\\n<h4>Version 3</h4>\\n<ul>\\n<li>Fine-tuning: change default batch norm momentum to 0.99 and\\n    make it configurable.</li>\\n<li>Requires PIP package <code>tensorflow-hub&gt;=0.2.0</code>.</li>\\n</ul>\n",
      "imagenet-resnet_v1_101-classification <h4>Version 1</h4>\\n<ul>\\n<li>Initial release.</li>\\n</ul>\\n<h4>Version 3</h4>\\n<ul>\\n<li>Support for variable input size.</li>\\n<li>Fine-tuning: change default batch norm momentum to 0.99 and\\n    make it configurable.</li>\\n<li>Requires PIP package <code>tensorflow-hub&gt;=0.2.0</code>.</li>\\n</ul>\n",
      "imagenet-resnet_v1_101-feature_vector <h4>Version 1</h4>\\n<ul>\\n<li>Initial release.</li>\\n</ul>\\n<h4>Version 3</h4>\\n<ul>\\n<li>Support for variable input size.</li>\\n<li>Fine-tuning: change default batch norm momentum to 0.99 and\\n    make it configurable.</li>\\n<li>Requires PIP package <code>tensorflow-hub&gt;=0.2.0</code>.</li>\\n</ul>\n",
      "imagenet-resnet_v1_152-classification <h4>Version 1</h4>\\n<ul>\\n<li>Initial release.</li>\\n</ul>\\n<h4>Version 3</h4>\\n<ul>\\n<li>Support for variable input size.</li>\\n<li>Fine-tuning: change default batch norm momentum to 0.99 and\\n    make it configurable.</li>\\n<li>Requires PIP package <code>tensorflow-hub&gt;=0.2.0</code>.</li>\\n</ul>\n",
      "imagenet-resnet_v1_152-feature_vector <h4>Version 1</h4>\\n<ul>\\n<li>Initial release.</li>\\n</ul>\\n<h4>Version 3</h4>\\n<ul>\\n<li>Support for variable input size.</li>\\n<li>Fine-tuning: change default batch norm momentum to 0.99 and\\n    make it configurable.</li>\\n<li>Requires PIP package <code>tensorflow-hub&gt;=0.2.0</code>.</li>\\n</ul>\n",
      "imagenet-resnet_v1_50-classification <h4>Version 1</h4>\\n<ul>\\n<li>Initial release.</li>\\n</ul>\\n<h4>Version 3</h4>\\n<ul>\\n<li>Support for variable input size.</li>\\n<li>Fine-tuning: change default batch norm momentum to 0.99 and\\n    make it configurable.</li>\\n<li>Requires PIP package <code>tensorflow-hub&gt;=0.2.0</code>.</li>\\n</ul>\n",
      "imagenet-resnet_v1_50-feature_vector <h4>Version 1</h4>\\n<ul>\\n<li>Initial release.</li>\\n</ul>\\n<h4>Version 3</h4>\\n<ul>\\n<li>Support for variable input size.</li>\\n<li>Fine-tuning: change default batch norm momentum to 0.99 and\\n    make it configurable.</li>\\n<li>Requires PIP package <code>tensorflow-hub&gt;=0.2.0</code>.</li>\\n</ul>\n",
      "imagenet-resnet_v2_101-classification <h4>Version 1</h4>\\n<ul>\\n<li>Initial release.</li>\\n</ul>\\n<h4>Version 3</h4>\\n<ul>\\n<li>Support for variable input size.</li>\\n<li>Fine-tuning: change default batch norm momentum to 0.99 and\\n    make it configurable.</li>\\n<li>Requires PIP package <code>tensorflow-hub&gt;=0.2.0</code>.</li>\\n</ul>\n",
      "imagenet-resnet_v2_101-feature_vector <h4>Version 1</h4>\\n<ul>\\n<li>Initial release.</li>\\n</ul>\\n<h4>Version 3</h4>\\n<ul>\\n<li>Support for variable input size.</li>\\n<li>Fine-tuning: change default batch norm momentum to 0.99 and\\n    make it configurable.</li>\\n<li>Requires PIP package <code>tensorflow-hub&gt;=0.2.0</code>.</li>\\n</ul>\n",
      "imagenet-resnet_v2_152-classification <h4>Version 1</h4>\\n<ul>\\n<li>Initial release.</li>\\n</ul>\\n<h4>Version 3</h4>\\n<ul>\\n<li>Support for variable input size.</li>\\n<li>Fine-tuning: change default batch norm momentum to 0.99 and\\n    make it configurable.</li>\\n<li>Requires PIP package <code>tensorflow-hub&gt;=0.2.0</code>.</li>\\n</ul>\n",
      "imagenet-resnet_v2_152-feature_vector <h4>Version 1</h4>\\n<ul>\\n<li>Initial release.</li>\\n</ul>\\n<h4>Version 3</h4>\\n<ul>\\n<li>Support for variable input size.</li>\\n<li>Fine-tuning: change default batch norm momentum to 0.99 and\\n    make it configurable.</li>\\n<li>Requires PIP package <code>tensorflow-hub&gt;=0.2.0</code>.</li>\\n</ul>\n"
     ]
    },
    {
     "name": "stdout",
     "output_type": "stream",
     "text": [
      "imagenet-resnet_v2_50-classification <h4>Version 1</h4>\\n<ul>\\n<li>Initial release.</li>\\n</ul>\\n<h4>Version 3</h4>\\n<ul>\\n<li>Support for variable input size.</li>\\n<li>Fine-tuning: change default batch norm momentum to 0.99 and\\n    make it configurable.</li>\\n<li>Requires PIP package <code>tensorflow-hub&gt;=0.2.0</code>.</li>\\n</ul>\n",
      "imagenet-resnet_v2_50-feature_vector <h4>Version 1</h4>\\n<ul>\\n<li>Initial release.</li>\\n</ul>\\n<h4>Version 3</h4>\\n<ul>\\n<li>Support for variable input size.</li>\\n<li>Fine-tuning: change default batch norm momentum to 0.99 and\\n    make it configurable.</li>\\n<li>Requires PIP package <code>tensorflow-hub&gt;=0.2.0</code>.</li>\\n</ul>\n",
      "inaturalist-inception_v3-feature_vector <h4>Version 1</h4>\\n<ul>\\n<li>Initial release.</li>\\n</ul>\\n<h4>Version 3</h4>\\n<ul>\\n<li>Support for variable input size.</li>\\n<li>Fine-tuning: change default batch norm momentum to 0.99 and\\n    make it configurable.</li>\\n<li>Requires PIP package <code>tensorflow-hub&gt;=0.2.0</code>.</li>\\n</ul>\n",
      "tf2-preview-inception_v3-classification <h4>Version 1</h4>\\n<ul>\\n<li>Initial release.</li>\\n</ul>\\n<h4>Version 2</h4>\\n<ul>\\n<li>Fixed missing default <code>trainable=False</code>.</li>\\n<li>Fixed broken regularization_losses.</li>\\n</ul>\\n<h4>Version 3</h4>\\n<ul>\\n<li>Provides proper names for variables*comma* fixing crash in <code>Model.save()</code>\\n    (<a href=\"https://github.com/tensorflow/hub/issues/287\">GitHub issue #287</a>).</li>\\n</ul>\\n<h4>Version 4</h4>\\n<ul>\\n<li>Adds back missing update ops for batch norm that were lost in version 3*comma*\\n    (<a href=\"https://github.com/tensorflow/hub/issues/304\">GitHub issue #304</a>).</li>\\n</ul>\n",
      "tf2-preview-inception_v3-feature_vector <h4>Version 1</h4>\\n<ul>\\n<li>Initial release.</li>\\n</ul>\\n<h4>Version 2</h4>\\n<ul>\\n<li>Fixed missing default <code>trainable=False</code>.</li>\\n<li>Fixed broken regularization_losses.</li>\\n</ul>\\n<h4>Version 3</h4>\\n<ul>\\n<li>Provides proper names for variables*comma* fixing crash in <code>Model.save()</code>\\n    (<a href=\"https://github.com/tensorflow/hub/issues/287\">GitHub issue #287</a>).</li>\\n</ul>\\n<h4>Version 4</h4>\\n<ul>\\n<li>Adds back missing update ops for batch norm that were lost in version 3*comma*\\n    (<a href=\"https://github.com/tensorflow/hub/issues/304\">GitHub issue #304</a>).</li>\\n</ul>\n",
      "tf2-preview-mobilenet_v2-classification <h4>Version 1</h4>\\n<ul>\\n<li>Initial release.</li>\\n</ul>\\n<h4>Version 2</h4>\\n<ul>\\n<li>Fixed missing default <code>trainable=False</code>.</li>\\n<li>Fixed broken regularization_losses.</li>\\n</ul>\\n<h4>Version 3</h4>\\n<ul>\\n<li>Provides proper names for variables*comma* fixing crash in <code>Model.save()</code>\\n    (<a href=\"https://github.com/tensorflow/hub/issues/287\">GitHub issue #287</a>).</li>\\n</ul>\\n<h4>Version 4</h4>\\n<ul>\\n<li>Adds back missing update ops for batch norm that were lost in version 3*comma*\\n    (<a href=\"https://github.com/tensorflow/hub/issues/304\">GitHub issue #304</a>).</li>\\n</ul>\n",
      "tf2-preview-mobilenet_v2-feature_vector <h4>Version 1</h4>\\n<ul>\\n<li>Initial release.</li>\\n</ul>\\n<h4>Version 2</h4>\\n<ul>\\n<li>Fixed missing default <code>trainable=False</code>.</li>\\n<li>Fixed broken regularization_losses.</li>\\n</ul>\\n<h4>Version 3</h4>\\n<ul>\\n<li>Provides proper names for variables*comma* fixing crash in <code>Model.save()</code>\\n    (<a href=\"https://github.com/tensorflow/hub/issues/287\">GitHub issue #287</a>).</li>\\n</ul>\\n<h4>Version 4</h4>\\n<ul>\\n<li>Adds back missing update ops for batch norm that were lost in version 3*comma*\\n    (<a href=\"https://github.com/tensorflow/hub/issues/304\">GitHub issue #304</a>).</li>\\n</ul>\n",
      "universal-sentence-encoder <h4>Version 1</h4>\\n<ul>\\n<li>Initial release.</li>\\n</ul>\\n<h4>Version 2</h4>\\n<ul>\\n<li>Exposed internal variables as Trainable.</li>\\n</ul>\\n\n",
      "universal-sentence-encoder-large <h4>Version 1</h4>\\n<ul>\\n<li>Initial release.</li>\\n</ul>\\n<h4>Version 2</h4>\\n<ul>\\n<li>Exposed internal variables as Trainable.</li>\\n</ul>\\n<h4>Version 3</h4>\\n<ul>\\n<li>Fixed batch invariant <a href=\"https://github.com/tensorflow/hub/issues/74\">bug</a>. This\\n   version was retrained and its embedding space differs from previous versions.</li>\\n</ul>\\n\n",
      "universal-sentence-encoder-lite <h4>Version 1</h4>\\n<ul>\\n<li>Initial release.</li>\\n</ul>\\n<h4>Version 2</h4>\\n<ul>\\n<li>Exposed internal variables as Trainable.</li>\\n</ul>\\n\n"
     ]
    }
   ],
   "source": [
    "def sort_and_print_dict(d, f):\n",
    "    with open(f, \"w\") as fw:\n",
    "        fw.write(\"module,changelogs\\n\")\n",
    "        l = list(d.keys())\n",
    "        l.sort()\n",
    "        for i in l:\n",
    "            html = d[i]\n",
    "            html = html.replace(\"\\n\", \"\\\\n\")\n",
    "            html = html.replace(\",\", \"*comma*\")\n",
    "            fw.write(\"{},{}\\n\".format(i, html))\n",
    "            print(i, html)\n",
    "sort_and_print_dict(model_logInfo, \"product_changelog.csv\")"
   ]
  },
  {
   "cell_type": "code",
   "execution_count": 5,
   "metadata": {
    "scrolled": true
   },
   "outputs": [],
   "source": [
    "with open(\"module_version_changelog.txt\", \"w\") as mvc:\n",
    "    for module in model_version_logInfo:\n",
    "        for version in model_version_logInfo[module]:\n",
    "#             print(module, version, \"\\n---------------\\n\", model_version_logInfo[module][version], \"\\n\\n\\n\\n\\n\\n\\n\\n\\n\\n\\n\")\n",
    "            mvc.write(\"{} {}\\n---------------\\n{}{}\".format(module, version, model_version_logInfo[module][version], \"\\n\\n\\n\\n\\n\\n\\n\\n\\n\\n\\n\"))"
   ]
  },
  {
   "cell_type": "markdown",
   "metadata": {},
   "source": [
    "------"
   ]
  },
  {
   "cell_type": "code",
   "execution_count": 6,
   "metadata": {},
   "outputs": [
    {
     "name": "stdout",
     "output_type": "stream",
     "text": [
      "<h4>Version 1</h4>\n",
      "<ul>\n",
      "<li>Initial release.</li>\n",
      "</ul>\n",
      "<h4>Version 2</h4>\n",
      "<ul>\n",
      "<li>Restricted trainable variables to the 4 scalar weights as described in the\n",
      "paper.</li>\n",
      "</ul>\n"
     ]
    }
   ],
   "source": [
    "import re\n",
    "s = \"\"\"<h4>Version 1</h4>\n",
    "<ul>\n",
    "<li>Initial release.</li>\n",
    "</ul>\n",
    "<h4>Version 2</h4>\n",
    "<ul>\n",
    "<li>Restricted trainable variables to the 4 scalar weights as described in the\n",
    "paper.</li>\n",
    "</ul>\"\"\"\n",
    "hehe = re.split(\"<h\\d>\\Seferences</h\\d>\", s)\n",
    "print(hehe[0])"
   ]
  },
  {
   "cell_type": "code",
   "execution_count": null,
   "metadata": {},
   "outputs": [],
   "source": []
  }
 ],
 "metadata": {
  "kernelspec": {
   "display_name": "Python 3",
   "language": "python",
   "name": "python3"
  },
  "language_info": {
   "codemirror_mode": {
    "name": "ipython",
    "version": 3
   },
   "file_extension": ".py",
   "mimetype": "text/x-python",
   "name": "python",
   "nbconvert_exporter": "python",
   "pygments_lexer": "ipython3",
   "version": "3.6.8"
  }
 },
 "nbformat": 4,
 "nbformat_minor": 1
}
