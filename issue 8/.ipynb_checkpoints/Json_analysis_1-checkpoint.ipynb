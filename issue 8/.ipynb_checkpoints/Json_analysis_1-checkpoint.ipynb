{
 "cells": [
  {
   "cell_type": "markdown",
   "metadata": {},
   "source": [
    "## Generate the data that can be displayed with HTML/JS code. \n",
    "I don't find a very good visualization form. "
   ]
  },
  {
   "cell_type": "markdown",
   "metadata": {},
   "source": [
    "Note that: \n",
    "* in some code, there is assignment for `value`, and the orignally version can generate data for tree-basic_tree.html. The other version can generate data for bubble graph. "
   ]
  },
  {
   "cell_type": "code",
   "execution_count": 1,
   "metadata": {},
   "outputs": [],
   "source": [
    "import json\n",
    "with open(\"families_with_all_info.json\", \"r\") as fwai:\n",
    "    families = json.load(fwai)"
   ]
  },
  {
   "cell_type": "raw",
   "metadata": {},
   "source": [
    "for i in families:\n",
    "    print(i)"
   ]
  },
  {
   "cell_type": "code",
   "execution_count": 2,
   "metadata": {},
   "outputs": [],
   "source": [
    "def regroup_family_by_application_domain(diction):\n",
    "    from pprint import pprint\n",
    "    new_families = {}\n",
    "    try:\n",
    "        for family in diction:\n",
    "            for module_name in diction[family]:\n",
    "                if \"description\" in module_name:\n",
    "                    continue\n",
    "                module = diction[family][module_name]\n",
    "                application_domain = module[\"application_domain\"]\n",
    "                family_description = diction[family][\"family_description\"]\n",
    "                # print(application_domain, family_description)\n",
    "                if application_domain not in new_families:\n",
    "                    new_families[application_domain] = {}\n",
    "                \n",
    "                if family not in new_families[application_domain]:\n",
    "                    new_families[application_domain][family] = []\n",
    "                \n",
    "                if module not in new_families[application_domain][family]:\n",
    "                    new_families[application_domain][family].append(\n",
    "                        {\n",
    "                            \"name\": module_name, \n",
    "                            \"value\": 1, \n",
    "                        }\n",
    "                    )\n",
    "    except:\n",
    "        print(module_name)\n",
    "    return new_families\n",
    "\n",
    "new_families = regroup_family_by_application_domain(families)"
   ]
  },
  {
   "cell_type": "raw",
   "metadata": {},
   "source": [
    "from pprint import pprint\n",
    "pprint(new_families)"
   ]
  },
  {
   "cell_type": "code",
   "execution_count": 3,
   "metadata": {},
   "outputs": [],
   "source": [
    "def stratify_according_to_sub_families(families):\n",
    "    def add_item_into_list(big_family_name, item, new_list):\n",
    "        for i in new_list:\n",
    "            if i[\"name\"] == big_family_name:\n",
    "                i[\"value\"] += item[\"value\"] ## originally: += 1\n",
    "                i[\"children\"].append(item)\n",
    "                return\n",
    "        new_list.append(\n",
    "            {\n",
    "                \"name\": big_family_name,\n",
    "                \"value\": item[\"value\"], ## originally: 1,\n",
    "                \"children\": [item]\n",
    "            }\n",
    "        )\n",
    "        return\n",
    "    \n",
    "    families1 = []\n",
    "    for family in families:\n",
    "        if \"biggan\" in family[\"name\"]:\n",
    "            add_item_into_list(\"biggan\", family, families1)\n",
    "        elif \"compare_gan\" in family[\"name\"]: \n",
    "            add_item_into_list(\"compare_gan\", family, families1)\n",
    "        elif \"image_augmentation\" in family[\"name\"]: \n",
    "            add_item_into_list(\"image_augmentation\", family, families1)\n",
    "        elif \"imagenet-inception\" in family[\"name\"] or family[\"name\"] == \"tf2-preview-inception_v3\": \n",
    "            add_item_into_list(\"imagenet-inception\", family, families1)\n",
    "        elif \"imagenet-mobilenet\" in family[\"name\"] or family[\"name\"] == \"quantops\" or family[\"name\"] == \"tf2-preview-mobilenet_v2\": \n",
    "            add_item_into_list(\"imagenet-mobilenet\", family, families1)\n",
    "#         elif \"quantops\" in family[\"name\"]:\n",
    "#             add_item_into_list(\"imagenet-mobilenet\", family, families1)\n",
    "        elif \"imagenet-resnet\" in family[\"name\"]: \n",
    "            add_item_into_list(\"imagenet-resnet\", family, families1)\n",
    "        elif \"nnlm\" in family[\"name\"]: \n",
    "            add_item_into_list(\"nnlm\", family, families1)\n",
    "        elif \"universal-sentence-encoder\" in family[\"name\"]: \n",
    "            add_item_into_list(\"universal-sentence-encoder\", family, families1)\n",
    "        else:\n",
    "            families1.append(family)\n",
    "    \n",
    "    return families1\n",
    "            \n",
    "        \n",
    "def stratify_families(new_families): \n",
    "    new_families1 = {}\n",
    "    for application_domain, families in new_families.items():\n",
    "        if application_domain not in new_families1:\n",
    "            new_families1[application_domain] = []\n",
    "        for family, members in families.items():\n",
    "            if family not in new_families1[application_domain]:\n",
    "                new_families1[application_domain].append(\n",
    "                    {\n",
    "                        \"name\": family, \n",
    "                        \"value\": len(members),\n",
    "                        \"children\": members, \n",
    "                    }\n",
    "                )\n",
    "                \n",
    "    new_families2 = []\n",
    "    for application_domain, children in new_families1.items():\n",
    "        children1 = stratify_according_to_sub_families(children)\n",
    "        new_families2.append(\n",
    "            {\n",
    "                \"name\": application_domain, \n",
    "                \"value\": sum([item[\"value\"] for item in children1]), ## originally: len(children1), \n",
    "                \"children\": children1\n",
    "                \n",
    "            }\n",
    "        )\n",
    "    \n",
    "    return new_families2\n",
    "new_families2 = stratify_families(new_families)"
   ]
  },
  {
   "cell_type": "code",
   "execution_count": 7,
   "metadata": {},
   "outputs": [],
   "source": [
    "new_families3 = {\n",
    "    \"name\": \"modules\", \n",
    "    \"value\": sum([item[\"value\"] for item in new_families2]), ## originally: len(new_families2),\n",
    "    \"children\": new_families2,\n",
    "}"
   ]
  },
  {
   "cell_type": "code",
   "execution_count": 8,
   "metadata": {},
   "outputs": [],
   "source": [
    "with open(\"family_grouped_by_subfamilies.json\", \"w\") as hhd:\n",
    "    json.dump(new_families3, hhd, sort_keys=True, indent=4)"
   ]
  },
  {
   "cell_type": "code",
   "execution_count": null,
   "metadata": {},
   "outputs": [],
   "source": []
  }
 ],
 "metadata": {
  "kernelspec": {
   "display_name": "Python 2",
   "language": "python",
   "name": "python2"
  },
  "language_info": {
   "codemirror_mode": {
    "name": "ipython",
    "version": 2
   },
   "file_extension": ".py",
   "mimetype": "text/x-python",
   "name": "python",
   "nbconvert_exporter": "python",
   "pygments_lexer": "ipython2",
   "version": "2.7.15"
  }
 },
 "nbformat": 4,
 "nbformat_minor": 2
}
