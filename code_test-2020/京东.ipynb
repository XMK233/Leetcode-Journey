{
 "cells": [
  {
   "cell_type": "code",
   "execution_count": null,
   "metadata": {},
   "outputs": [],
   "source": [
    "[\n",
    "    \"2 2 3\",\n",
    "    \"1 5 10\",\n",
    "    \"2 4 12\"\n",
    "]"
   ]
  },
  {
   "cell_type": "code",
   "execution_count": 6,
   "metadata": {},
   "outputs": [
    {
     "name": "stdout",
     "output_type": "stream",
     "text": [
      "(1, 0)\n",
      "[[0, 0], [0, 0]]\n"
     ]
    }
   ],
   "source": [
    "n = 2\n",
    "m = 2\n",
    "\n",
    "myMap = [\n",
    "    [\".\", \"E\"],\n",
    "    [\"S\", \".\"]\n",
    "]\n",
    "##########################\n",
    "visited = [[False] * m for _ in range(n)]\n",
    "#########\n",
    "endLoop = False\n",
    "princePlace = None\n",
    "for i in range(n):\n",
    "    for j in range(m):\n",
    "        if myMap[i][j] == \"S\":\n",
    "            princePlace = (i, j)\n",
    "            endLoop = True\n",
    "    if endLoop:\n",
    "        break\n",
    "#########\n",
    "endLoop = False\n",
    "princessPlace = None\n",
    "for i in range(n):\n",
    "    for j in range(m):\n",
    "        if myMap[i][j] == \"E\":\n",
    "            princessPlace = (i, j)\n",
    "            endLoop = True\n",
    "    if endLoop:\n",
    "        break\n",
    "#########\n",
    "directions = [(-1, 0),(1, 0),(0, -1),(0, 1)]\n",
    "#########\n",
    "def canGo(visited, curPlace):\n",
    "    ### \n",
    "    if curPlace == princessPlace:\n",
    "        return True\n",
    "    ### \n",
    "    # mark = False\n",
    "    for d in directions:\n",
    "        nextPlace = (curPlace[0] + d[0], curPlace[1] + d[1])\n",
    "        ## 首先判断有无出界\n",
    "        if not (nextPlace[0] < n and nextPlace[0] >= 0 and nextPlace[1] < m and nextPlace[1] >= 0):\n",
    "            continue\n",
    "        ## 然后判断下一个地方是否是障碍物\n",
    "        if myMap[nextPlace[0]][nextPlace[1]] == \"#\":\n",
    "            continue\n",
    "        visited[curPlace[0]][curPlace[1]] = True\n",
    "        result = canGo(visited, nextPlace)\n",
    "        if result == True:\n",
    "            return True\n",
    "        # mark = canGo(visited, nextPlace) or mark\n",
    "\n",
    "print(visited)"
   ]
  }
 ],
 "metadata": {
  "kernelspec": {
   "display_name": "Python 3",
   "language": "python",
   "name": "python3"
  },
  "language_info": {
   "codemirror_mode": {
    "name": "ipython",
    "version": 3
   },
   "file_extension": ".py",
   "mimetype": "text/x-python",
   "name": "python",
   "nbconvert_exporter": "python",
   "pygments_lexer": "ipython3",
   "version": "3.6.7"
  }
 },
 "nbformat": 4,
 "nbformat_minor": 2
}
