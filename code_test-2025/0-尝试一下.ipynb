{
 "cells": [
  {
   "cell_type": "code",
   "execution_count": 52,
   "id": "0737d838-f475-466d-92d5-7c084f79bf79",
   "metadata": {},
   "outputs": [],
   "source": [
    "def find_the_longer_list(l1, l2):\n",
    "    if len(l1) >= len(l2):\n",
    "        return l1, l2\n",
    "    else:\n",
    "        return l2, l1\n",
    "\n",
    "def cut_half_and_get_median(lst):\n",
    "    if len(lst)==0:\n",
    "        return [], [], None\n",
    "    if len(lst) == 1:\n",
    "        return lst, lst, lst[0]\n",
    "    if len(lst)%2:\n",
    "        return lst[:len(lst)//2], lst[len(lst)//2+1:], lst[(len(lst)-1)//2]\n",
    "    else:\n",
    "        return lst[:len(lst)//2], lst[len(lst)//2:], (lst[len(lst)//2-1] + lst[len(lst)//2])/2\n",
    "\n",
    "## 4. 寻找两个正序数组的中位数 \n",
    "## https://leetcode.cn/problems/median-of-two-sorted-arrays/description/\n",
    "class Solution:\n",
    "    def findMedianSortedArrays(self, nums1, nums2):\n",
    "        nums1, nums2 = find_the_longer_list(nums1, nums2) ## 两个数组 确保 左边那个是更长的。\n",
    "        if len(nums2) == 0:\n",
    "            _, _1, _2 = cut_half_and_get_median(nums1)\n",
    "            return _2\n",
    "        \n",
    "        if (len(nums1)==1) and (len(nums2)==1):\n",
    "            return (nums1[0] + nums2[0])/2\n",
    "            \n",
    "        nums1_l, nums1_r, nums1_m = cut_half_and_get_median(nums1)\n",
    "        nums2_l, nums2_r, nums2_m = cut_half_and_get_median(nums2)\n",
    "        if nums1_m == nums2_m:\n",
    "            return nums1_m\n",
    "        elif nums1_m > nums2_m:\n",
    "            return self.findMedianSortedArrays(nums1_l, nums2_r)\n",
    "        else:\n",
    "            return self.findMedianSortedArrays(nums1_r, nums2_l)\n",
    "        "
   ]
  },
  {
   "cell_type": "code",
   "execution_count": 54,
   "id": "2945cf70-da6c-429b-9dd1-f5da7118b0a1",
   "metadata": {},
   "outputs": [
    {
     "data": {
      "text/plain": [
       "3.0"
      ]
     },
     "execution_count": 54,
     "metadata": {},
     "output_type": "execute_result"
    }
   ],
   "source": [
    "Solution().findMedianSortedArrays(\n",
    "    nums1 = [2,2,4,4], nums2 = [2,2,2,4,4]\n",
    ")"
   ]
  },
  {
   "cell_type": "code",
   "execution_count": null,
   "id": "e0bff55a-11bb-4629-8304-cfaf70b931d0",
   "metadata": {},
   "outputs": [],
   "source": [
    "[2,2,2,4,4]\n",
    "[2,2,3，4,4]"
   ]
  },
  {
   "cell_type": "code",
   "execution_count": null,
   "id": "a0da0931-3a10-41d5-bbd3-8a7d105b37cf",
   "metadata": {},
   "outputs": [],
   "source": []
  },
  {
   "cell_type": "code",
   "execution_count": null,
   "id": "60d8c240-9fb7-404c-bd43-b08da27b09b8",
   "metadata": {},
   "outputs": [],
   "source": []
  },
  {
   "cell_type": "code",
   "execution_count": null,
   "id": "8920ba9c-4583-4751-be1f-52f72c1768e9",
   "metadata": {},
   "outputs": [],
   "source": []
  },
  {
   "cell_type": "code",
   "execution_count": null,
   "id": "94ba7083-8407-4056-ac5b-019f171e681d",
   "metadata": {},
   "outputs": [],
   "source": []
  },
  {
   "cell_type": "code",
   "execution_count": null,
   "id": "c53affca-caf9-4717-8697-7cc27d9f51f6",
   "metadata": {},
   "outputs": [],
   "source": []
  },
  {
   "cell_type": "code",
   "execution_count": null,
   "id": "56808377-db8b-4bf7-8b1d-93044fadb624",
   "metadata": {},
   "outputs": [],
   "source": []
  },
  {
   "cell_type": "code",
   "execution_count": null,
   "id": "f7aed3b1-fea1-4e7e-9777-39926a4d236e",
   "metadata": {},
   "outputs": [],
   "source": []
  }
 ],
 "metadata": {
  "kernelspec": {
   "display_name": "Python 3 (ipykernel)",
   "language": "python",
   "name": "python3"
  },
  "language_info": {
   "codemirror_mode": {
    "name": "ipython",
    "version": 3
   },
   "file_extension": ".py",
   "mimetype": "text/x-python",
   "name": "python",
   "nbconvert_exporter": "python",
   "pygments_lexer": "ipython3",
   "version": "3.10.12"
  }
 },
 "nbformat": 4,
 "nbformat_minor": 5
}
