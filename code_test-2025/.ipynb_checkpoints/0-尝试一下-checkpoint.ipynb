{
 "cells": [
  {
   "cell_type": "code",
   "execution_count": 1,
   "id": "c6c75b56-0d42-4bee-9c8f-dd30bc54c602",
   "metadata": {},
   "outputs": [
    {
     "ename": "NameError",
     "evalue": "name 'List' is not defined",
     "output_type": "error",
     "traceback": [
      "\u001b[0;31m---------------------------------------------------------------------------\u001b[0m",
      "\u001b[0;31mNameError\u001b[0m                                 Traceback (most recent call last)",
      "Cell \u001b[0;32mIn[1], line 2\u001b[0m\n\u001b[1;32m      1\u001b[0m \u001b[38;5;66;03m## 4. 寻找两个正序数组的中位数\u001b[39;00m\n\u001b[0;32m----> 2\u001b[0m \u001b[38;5;28;01mclass\u001b[39;00m \u001b[38;5;21;01mSolution\u001b[39;00m:\n\u001b[1;32m      3\u001b[0m     \u001b[38;5;28;01mdef\u001b[39;00m \u001b[38;5;21mfindMedianSortedArrays\u001b[39m(\u001b[38;5;28mself\u001b[39m, nums1: List[\u001b[38;5;28mint\u001b[39m], nums2: List[\u001b[38;5;28mint\u001b[39m]) \u001b[38;5;241m-\u001b[39m\u001b[38;5;241m>\u001b[39m \u001b[38;5;28mfloat\u001b[39m:\n\u001b[1;32m      4\u001b[0m         \u001b[38;5;28;01mpass\u001b[39;00m\n",
      "Cell \u001b[0;32mIn[1], line 3\u001b[0m, in \u001b[0;36mSolution\u001b[0;34m()\u001b[0m\n\u001b[1;32m      2\u001b[0m \u001b[38;5;28;01mclass\u001b[39;00m \u001b[38;5;21;01mSolution\u001b[39;00m:\n\u001b[0;32m----> 3\u001b[0m     \u001b[38;5;28;01mdef\u001b[39;00m \u001b[38;5;21mfindMedianSortedArrays\u001b[39m(\u001b[38;5;28mself\u001b[39m, nums1: \u001b[43mList\u001b[49m[\u001b[38;5;28mint\u001b[39m], nums2: List[\u001b[38;5;28mint\u001b[39m]) \u001b[38;5;241m-\u001b[39m\u001b[38;5;241m>\u001b[39m \u001b[38;5;28mfloat\u001b[39m:\n\u001b[1;32m      4\u001b[0m         \u001b[38;5;28;01mpass\u001b[39;00m\n",
      "\u001b[0;31mNameError\u001b[0m: name 'List' is not defined"
     ]
    }
   ],
   "source": [
    "## 4. 寻找两个正序数组的中位数 \n",
    "## https://leetcode.cn/problems/median-of-two-sorted-arrays/description/\n",
    "class Solution:\n",
    "    def findMedianSortedArrays(self, nums1, nums2):\n",
    "        nums1, nums2 = find_the_longer_list() ## 第一步 两个数组 确保 左边那个是更长的。\n",
    "        "
   ]
  },
  {
   "cell_type": "code",
   "execution_count": 4,
   "id": "71293c5f-5d3d-441a-89ae-07695bc4469a",
   "metadata": {},
   "outputs": [],
   "source": [
    "def find_the_longer_list(l1, l2):\n",
    "    if len(l1) >= len(l2):\n",
    "        return l1, l2\n",
    "    else:\n",
    "        return l2, l1"
   ]
  },
  {
   "cell_type": "code",
   "execution_count": 8,
   "id": "0d351332-3afc-4cf8-ae26-21b4142ed973",
   "metadata": {},
   "outputs": [
    {
     "data": {
      "text/plain": [
       "([1, 2, 3, 4, 5], [])"
      ]
     },
     "execution_count": 8,
     "metadata": {},
     "output_type": "execute_result"
    }
   ],
   "source": [
    "l1, l2 = [1,2,3,4,5], []\n",
    "find_the_longer_list(l2, l1)"
   ]
  },
  {
   "cell_type": "code",
   "execution_count": 31,
   "id": "56ee4c62-10e2-4c9a-81c9-0e6478450cdd",
   "metadata": {},
   "outputs": [],
   "source": [
    "def cut_half_and_get_median(lst):\n",
    "    if len(lst)==0:\n",
    "        return [], [], None\n",
    "    if len(lst)%2:\n",
    "        return lst[:len(lst)//2], lst[len(lst)//2+1:], lst[(len(lst)-1)//2]\n",
    "        \n",
    "    else:\n",
    "        return lst[:len(lst)//2], lst[len(lst)//2:], (lst[len(lst)//2-1] + lst[len(lst)//2])/2"
   ]
  },
  {
   "cell_type": "code",
   "execution_count": 32,
   "id": "2dfd005e-b2a9-45fe-8c4c-3f4205cc11a0",
   "metadata": {},
   "outputs": [
    {
     "data": {
      "text/plain": [
       "([1, 2], [3, 4], 2.5)"
      ]
     },
     "execution_count": 32,
     "metadata": {},
     "output_type": "execute_result"
    }
   ],
   "source": [
    "lst = [1,2,3,4,]\n",
    "cut_half_and_get_median(\n",
    "    lst\n",
    ")"
   ]
  },
  {
   "cell_type": "code",
   "execution_count": null,
   "id": "8920ba9c-4583-4751-be1f-52f72c1768e9",
   "metadata": {},
   "outputs": [],
   "source": []
  },
  {
   "cell_type": "code",
   "execution_count": null,
   "id": "94ba7083-8407-4056-ac5b-019f171e681d",
   "metadata": {},
   "outputs": [],
   "source": []
  },
  {
   "cell_type": "code",
   "execution_count": null,
   "id": "c53affca-caf9-4717-8697-7cc27d9f51f6",
   "metadata": {},
   "outputs": [],
   "source": []
  },
  {
   "cell_type": "code",
   "execution_count": null,
   "id": "56808377-db8b-4bf7-8b1d-93044fadb624",
   "metadata": {},
   "outputs": [],
   "source": []
  },
  {
   "cell_type": "code",
   "execution_count": null,
   "id": "f7aed3b1-fea1-4e7e-9777-39926a4d236e",
   "metadata": {},
   "outputs": [],
   "source": []
  }
 ],
 "metadata": {
  "kernelspec": {
   "display_name": "Python 3 (ipykernel)",
   "language": "python",
   "name": "python3"
  },
  "language_info": {
   "codemirror_mode": {
    "name": "ipython",
    "version": 3
   },
   "file_extension": ".py",
   "mimetype": "text/x-python",
   "name": "python",
   "nbconvert_exporter": "python",
   "pygments_lexer": "ipython3",
   "version": "3.10.12"
  }
 },
 "nbformat": 4,
 "nbformat_minor": 5
}
