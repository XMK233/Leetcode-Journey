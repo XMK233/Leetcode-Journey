{
 "cells": [
  {
   "cell_type": "markdown",
   "metadata": {},
   "source": [
    "Only 213 modules have such result. \n",
    "Very sad, 17 modules cannot generate API list. \n",
    "* you have to figure it out. "
   ]
  },
  {
   "cell_type": "code",
   "execution_count": 1,
   "metadata": {},
   "outputs": [
    {
     "name": "stdout",
     "output_type": "stream",
     "text": [
      "213\n"
     ]
    }
   ],
   "source": [
    "import json, deepdiff, csv, re\n",
    "\n",
    "def find_from_dict(dict, string):\n",
    "    # string looks like: \"root['PyTorch_CPU_MKL_Notebook']['awsmpConfig']['operatingSystems']['AMAZONLINUX']['aadistributionName']\",\n",
    "    tmp = dict\n",
    "    p = re.compile(\"\\'\\w+\\'\")\n",
    "    for i in p.findall(string):\n",
    "        tmp = tmp[i[1:-1]]\n",
    "    return tmp\n",
    "\n",
    "def show_diff_result(last_versions, curr_versions, result_json):\n",
    "    keys = result_json.keys()\n",
    "    for key in keys:\n",
    "        if key == \"dictionary_item_added\":\n",
    "            rms = result_json[key][\"py/set\"]\n",
    "            tmp_dict = {}\n",
    "            for rm in rms:\n",
    "                tt = find_from_dict(curr_versions, rm)\n",
    "                tmp_dict[rm] = tt\n",
    "            result_json[key] = tmp_dict\n",
    "            pass\n",
    "        elif key == \"dictionary_item_removed\":\n",
    "            ads = result_json[key][\"py/set\"]\n",
    "            tmp_dict = {}\n",
    "            for ad in ads:\n",
    "                tt = find_from_dict(last_versions, ad)\n",
    "                tmp_dict[ad] = tt\n",
    "            result_json[key] = tmp_dict\n",
    "            pass\n",
    "        else:\n",
    "            pass\n",
    "    return result_json\n",
    "\n",
    "## get the changelog\n",
    "with open(\"product_changelog.csv\", \"r\") as pc:\n",
    "    reader = csv.reader(pc)\n",
    "    rows = [row for row in reader]\n",
    "changelog_rst = {}\n",
    "for row in rows:\n",
    "    changelog_rst[row[0]]= row[1]\n",
    "# with open(\"heheda1.txt\", \"w\") as h1:\n",
    "#     json.dump(changelog_rst, h1, indent= 4)\n",
    "## get the module api.\n",
    "with open(\"module_api.json\", \"r\") as ma:\n",
    "    api_list = json.load(ma)\n",
    "diff_rst = {}\n",
    "counter = 0\n",
    "with open(\"APIDiff_changelog.json\", \"w\") as hhd:\n",
    "    for module, content in api_list.items():\n",
    "        counter += 1\n",
    "        versions = content[\"versions\"]\n",
    "        key_list = []\n",
    "        value_list = []\n",
    "        for key, value in versions.items():\n",
    "            key_list.append(key)\n",
    "            value_list.append(value)\n",
    "\n",
    "        diff_content = {}\n",
    "        for i in range(len(value_list) - 1):\n",
    "            diff_content[\"{}:{}\".format(key_list[i], key_list[i + 1])] = show_diff_result(\n",
    "                value_list[i], value_list[i + 1],\n",
    "                json.loads(deepdiff.DeepDiff(value_list[i], value_list[i + 1], ignore_order=True).json)\n",
    "            )\n",
    "        if len(diff_content) > 0:\n",
    "            diff_content[\"changelog\"] = changelog_rst[module]\n",
    "            diff_rst[module] = diff_content\n",
    "\n",
    "    json.dump(diff_rst, hhd, indent= 4)\n",
    "    print(counter)\n",
    "\n",
    "##"
   ]
  }
 ],
 "metadata": {
  "kernelspec": {
   "display_name": "Python 3",
   "language": "python",
   "name": "python3"
  },
  "language_info": {
   "codemirror_mode": {
    "name": "ipython",
    "version": 3
   },
   "file_extension": ".py",
   "mimetype": "text/x-python",
   "name": "python",
   "nbconvert_exporter": "python",
   "pygments_lexer": "ipython3",
   "version": "3.6.5"
  }
 },
 "nbformat": 4,
 "nbformat_minor": 1
}
