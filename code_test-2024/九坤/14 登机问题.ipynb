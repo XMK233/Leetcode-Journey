{
 "cells": [
  {
   "cell_type": "markdown",
   "id": "a75ff6c6-81f4-4486-9b39-743859ca1386",
   "metadata": {},
   "source": [
    "> 这是一道使用计算机程序验证概率的问题"
   ]
  },
  {
   "cell_type": "markdown",
   "id": "5112d558-5948-4a27-aedd-203e97963315",
   "metadata": {},
   "source": [
    "在一架飞机上，有100位乘客等待登机。但是第一位乘客没有按照自己的位子直接入座，而是随机的从100个座位中选了一个坐下。后面的乘客，会排队挨个选座位：\n",
    "\n",
    "1. 如果他的座位还在，那么会选择自己的座位坐下；\n",
    "2. 如果他的座位已经被占，那么他就会随机选择剩余的座位坐下。\n",
    "\n",
    "请问：最后一位乘客坐到自己原先的位子的概率是多少？请编写一个仿真程序验证一下。"
   ]
  },
  {
   "cell_type": "code",
   "execution_count": null,
   "id": "73106c99-3e32-4ee4-b033-e5272c93382b",
   "metadata": {},
   "outputs": [],
   "source": [
    "## 分析理论。\n",
    "## 写仿真程序。"
   ]
  },
  {
   "cell_type": "markdown",
   "id": "34096f70-432d-4dd1-b53e-e3b40ee891d7",
   "metadata": {},
   "source": [
    "大概思路：\n",
    "* 函数：仿真一次：\n",
    "    * 设定n=100，是为乘客数量。\n",
    "    * 生成长为n的数组l1，里面是0～(n-1)的数字，然后数字随便排序。是为每一个乘客的专属序号。\n",
    "    * 从0～(n-1)开始循环。把结果放到数组l2里面。\n",
    "        * 如果i为0，那么直接随机一个数字放到l2里面去。\n",
    "        * 其他情况，看l1\\[i\\]是否在l2中，如果在的话就随机取一个(set(l1)-set(l2))中的数字放进l2中。\n",
    "    * 最后看l2\\[-1\\]和l1\\[-1\\]是不是相等，如果相等输出1，否则输出0\n",
    "* 函数运行x次，统计概率。"
   ]
  },
  {
   "cell_type": "code",
   "execution_count": 30,
   "id": "910cad95-e21a-463a-b109-6ef22497c3af",
   "metadata": {
    "tags": []
   },
   "outputs": [
    {
     "name": "stderr",
     "output_type": "stream",
     "text": [
      "100%|██████████| 100000/100000 [00:08<00:00, 11855.89it/s]\n"
     ]
    },
    {
     "data": {
      "text/plain": [
       "0.50067"
      ]
     },
     "execution_count": 30,
     "metadata": {},
     "output_type": "execute_result"
    }
   ],
   "source": [
    "import tqdm\n",
    "\n",
    "num_customers = 100 ## 乘客数量。\n",
    "num_sim_rounds = 100000 ## 拟真次数。\n",
    "\n",
    "def simulate_once(n):\n",
    "    assert n >= 1, \"num of customers should be bigger than 1...\"\n",
    "    ## 这里或许不用shuffle也可以。\n",
    "    l1 = list(range(n)) # random.shuffle(l1)\n",
    "    ## 循环：\n",
    "    l2 = []\n",
    "    for idx in range(n):\n",
    "        if idx == 0: ## 第一个乘客随机坐。\n",
    "            l2.append(random.choice(l1))\n",
    "        else: ## 第二个乘客看自己的位置还在不在，如果在就坐，不在则随机坐。\n",
    "            if l1[idx] in l2:\n",
    "                l2.append(\n",
    "                    random.choice(\n",
    "                        list(set(l1) - set(l2))\n",
    "                    )\n",
    "                )\n",
    "            else:\n",
    "                l2.append(l1[idx])\n",
    "    ## 看最后一个乘客是不是坐在了自己的位置上。\n",
    "    return 1 if l1[-1] == l2[-1] else 0\n",
    "\n",
    "sim_rsts = [simulate_once(num_customers) for _ in tqdm.tqdm(range(num_sim_rounds))]\n",
    "sum(sim_rsts) / len(sim_rsts)"
   ]
  },
  {
   "cell_type": "code",
   "execution_count": null,
   "id": "c01cdfa0-bbd7-497c-97c0-cb3103039a5b",
   "metadata": {},
   "outputs": [],
   "source": []
  },
  {
   "cell_type": "code",
   "execution_count": null,
   "id": "fcaff07d-1cee-412d-8da9-1e3ceea7a839",
   "metadata": {},
   "outputs": [],
   "source": []
  },
  {
   "cell_type": "code",
   "execution_count": null,
   "id": "8cff58b6-9fe1-49a4-b6d5-aa211ce6a243",
   "metadata": {},
   "outputs": [],
   "source": []
  }
 ],
 "metadata": {
  "kernelspec": {
   "display_name": "Python 3 (ipykernel)",
   "language": "python",
   "name": "python3"
  },
  "language_info": {
   "codemirror_mode": {
    "name": "ipython",
    "version": 3
   },
   "file_extension": ".py",
   "mimetype": "text/x-python",
   "name": "python",
   "nbconvert_exporter": "python",
   "pygments_lexer": "ipython3",
   "version": "3.12.0"
  }
 },
 "nbformat": 4,
 "nbformat_minor": 5
}
